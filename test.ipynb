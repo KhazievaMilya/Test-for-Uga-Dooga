{
 "cells": [
  {
   "cell_type": "markdown",
   "metadata": {
    "id": "HzyUJpPpVlWO"
   },
   "source": [
    "Мобильная игра зарабатывает на показе рекламы. Есть несколько форматов:\n",
    "int – полноэкранная реклама; banner – горизонтальный баннер, висит внизу\n",
    "экрана пока юзер играет; rv – видео, которое юзер смотрит по желанию и за\n",
    "просмотр получает монетки или др. ресурсы. Информация о каждом показе\n",
    "отправляется в аналитику и содержит доход от показа, формат показанной\n",
    "рекламы, рекламную сеть от которой был показ и др.\n",
    "eCPM – доход за 1000 показов рекламы."
   ]
  },
  {
   "cell_type": "markdown",
   "metadata": {
    "id": "GVRQ8SImVuP-"
   },
   "source": [
    "# Провести исследование показов рекламы с целью понять на сколько отличается eCPM в зависимости от географии (города) юзера, версии ОС и других параметров. Интересны любые инсайты и находки по eCPM-ам.\n",
    "\n",
    "1. Для каждого формата рекламы:\n",
    "\n",
    "a. построить распределение средних eCPM-ов юзеров\n",
    "\n",
    "b. построить распределение eCPM-ов по городам, версиям ОС\n",
    "\n",
    "c. построить распределение доходов по городам, версиям ОС\n",
    "\n",
    "2. Учесть статистическую значимость (отобразить, отфильтровать незначимое\n",
    "или хотя бы прокомментировать). Объяснить решение.\n",
    "\n",
    "3. Описать наблюдения и вывод по исследованию.\n",
    "\n",
    "#### Откорректированное задание:\n",
    "\n",
    "1. Для каждого формата рекламы:\n",
    "\n",
    "a. построить распределение средних eCPM-ов юзеров\n",
    "\n",
    "b. отобразить средние eCPM-ы по городам, версиям ОС\n",
    "\n",
    "c. отобразить суммарные доходы по городам, версиям ОС\n",
    "\n",
    "2. Учесть статистическую значимость для п.1b (отобразить, отфильтровать\n",
    "незначимое или хотя бы прокомментировать). Объяснить решение.\n",
    "\n",
    "3. Описать наблюдения и вывод по исследованию."
   ]
  },
  {
   "cell_type": "markdown",
   "metadata": {
    "id": "VdJFujKzWI6x"
   },
   "source": [
    "#### Дополнительные (по желанию)\n",
    "Исследовать:\n",
    "\n",
    "– Какой процент доходов содержит информацию о городе юзера\n",
    "\n",
    "– Зависит ли eCPM от времени дня"
   ]
  },
  {
   "cell_type": "code",
   "execution_count": 1,
   "metadata": {
    "id": "ayxin7w6Uwvb"
   },
   "outputs": [],
   "source": [
    "import pandas as pd\n",
    "import json\n",
    "import seaborn as sns\n",
    "import numpy as np\n",
    "from natsort import natsort_keygen\n",
    "\n",
    "from scipy.stats import mannwhitneyu\n",
    "from scipy.stats import ttest_ind\n",
    "from scipy.stats import norm\n",
    "from scipy import stats \n",
    "import matplotlib.pyplot as plt\n",
    "import pylab"
   ]
  },
  {
   "cell_type": "code",
   "execution_count": 2,
   "metadata": {
    "id": "SKbIFDa3Sk5k"
   },
   "outputs": [],
   "source": [
    "df = pd.read_csv('us events ad_revenue filtered 03.02-07.02.csv')"
   ]
  },
  {
   "cell_type": "code",
   "execution_count": 3,
   "metadata": {
    "colab": {
     "base_uri": "https://localhost:8080/",
     "height": 357
    },
    "executionInfo": {
     "elapsed": 303,
     "status": "ok",
     "timestamp": 1655301158954,
     "user": {
      "displayName": "мое имя",
      "userId": "04682591971747797754"
     },
     "user_tz": -300
    },
    "id": "e7rLsOZoU7wu",
    "outputId": "c37cb36c-09eb-47d4-b7c4-96b68a7d4a06"
   },
   "outputs": [
    {
     "data": {
      "text/html": [
       "<div>\n",
       "<style scoped>\n",
       "    .dataframe tbody tr th:only-of-type {\n",
       "        vertical-align: middle;\n",
       "    }\n",
       "\n",
       "    .dataframe tbody tr th {\n",
       "        vertical-align: top;\n",
       "    }\n",
       "\n",
       "    .dataframe thead th {\n",
       "        text-align: right;\n",
       "    }\n",
       "</style>\n",
       "<table border=\"1\" class=\"dataframe\">\n",
       "  <thead>\n",
       "    <tr style=\"text-align: right;\">\n",
       "      <th></th>\n",
       "      <th>profile_id</th>\n",
       "      <th>os_version</th>\n",
       "      <th>device_manufacturer</th>\n",
       "      <th>device_model</th>\n",
       "      <th>device_type</th>\n",
       "      <th>device_locale</th>\n",
       "      <th>event_name</th>\n",
       "      <th>event_json</th>\n",
       "      <th>event_datetime</th>\n",
       "      <th>event_timestamp</th>\n",
       "      <th>event_receive_datetime</th>\n",
       "      <th>event_receive_timestamp</th>\n",
       "      <th>connection_type</th>\n",
       "      <th>operator_name</th>\n",
       "      <th>country_iso_code</th>\n",
       "      <th>city</th>\n",
       "    </tr>\n",
       "  </thead>\n",
       "  <tbody>\n",
       "    <tr>\n",
       "      <th>0</th>\n",
       "      <td>JLjpGzDHBQm</td>\n",
       "      <td>11</td>\n",
       "      <td>Samsung</td>\n",
       "      <td>Galaxy Tab S6</td>\n",
       "      <td>tablet</td>\n",
       "      <td>en_US</td>\n",
       "      <td>c_ad_revenue</td>\n",
       "      <td>{\"ad_type\":\"banner\",\"placement\":\"\",\"view_index...</td>\n",
       "      <td>2022-02-04 20:02:28</td>\n",
       "      <td>1643994148</td>\n",
       "      <td>2022-02-06 17:58:19</td>\n",
       "      <td>1644159499</td>\n",
       "      <td>wifi</td>\n",
       "      <td>NaN</td>\n",
       "      <td>US</td>\n",
       "      <td>Norwalk</td>\n",
       "    </tr>\n",
       "    <tr>\n",
       "      <th>1</th>\n",
       "      <td>JLjpGzDHBQm</td>\n",
       "      <td>11</td>\n",
       "      <td>Samsung</td>\n",
       "      <td>Galaxy Tab S6</td>\n",
       "      <td>tablet</td>\n",
       "      <td>en_US</td>\n",
       "      <td>c_ad_revenue</td>\n",
       "      <td>{\"ad_type\":\"banner\",\"placement\":\"\",\"view_index...</td>\n",
       "      <td>2022-02-04 20:02:45</td>\n",
       "      <td>1643994165</td>\n",
       "      <td>2022-02-06 17:58:19</td>\n",
       "      <td>1644159499</td>\n",
       "      <td>wifi</td>\n",
       "      <td>NaN</td>\n",
       "      <td>US</td>\n",
       "      <td>Norwalk</td>\n",
       "    </tr>\n",
       "    <tr>\n",
       "      <th>2</th>\n",
       "      <td>JLkVacrzHY6</td>\n",
       "      <td>11</td>\n",
       "      <td>Google</td>\n",
       "      <td>Pixel 2</td>\n",
       "      <td>phone</td>\n",
       "      <td>en_US</td>\n",
       "      <td>c_ad_revenue</td>\n",
       "      <td>{\"ad_type\":\"banner\",\"placement\":\"\",\"view_index...</td>\n",
       "      <td>2022-02-05 17:53:05</td>\n",
       "      <td>1644072785</td>\n",
       "      <td>2022-02-06 16:59:29</td>\n",
       "      <td>1644155969</td>\n",
       "      <td>wifi</td>\n",
       "      <td>Verizon</td>\n",
       "      <td>US</td>\n",
       "      <td>Charlotte</td>\n",
       "    </tr>\n",
       "    <tr>\n",
       "      <th>3</th>\n",
       "      <td>JMC6wG3cX0f</td>\n",
       "      <td>10</td>\n",
       "      <td>Samsung</td>\n",
       "      <td>Galaxy S9</td>\n",
       "      <td>phone</td>\n",
       "      <td>en_US</td>\n",
       "      <td>c_ad_revenue</td>\n",
       "      <td>{\"ad_type\":\"int\",\"placement\":\"next_level\",\"vie...</td>\n",
       "      <td>2022-02-06 17:09:01</td>\n",
       "      <td>1644156541</td>\n",
       "      <td>2022-02-06 17:09:24</td>\n",
       "      <td>1644156564</td>\n",
       "      <td>wifi</td>\n",
       "      <td>T-Mobile</td>\n",
       "      <td>US</td>\n",
       "      <td>Cocoa</td>\n",
       "    </tr>\n",
       "    <tr>\n",
       "      <th>4</th>\n",
       "      <td>JLzWWTJfi1b</td>\n",
       "      <td>10</td>\n",
       "      <td>Samsung</td>\n",
       "      <td>Galaxy S9</td>\n",
       "      <td>phone</td>\n",
       "      <td>en_US</td>\n",
       "      <td>c_ad_revenue</td>\n",
       "      <td>{\"ad_type\":\"banner\",\"placement\":\"\",\"view_index...</td>\n",
       "      <td>2022-02-06 17:15:38</td>\n",
       "      <td>1644156938</td>\n",
       "      <td>2022-02-06 17:16:16</td>\n",
       "      <td>1644156976</td>\n",
       "      <td>cell</td>\n",
       "      <td>Verizon</td>\n",
       "      <td>US</td>\n",
       "      <td>NaN</td>\n",
       "    </tr>\n",
       "  </tbody>\n",
       "</table>\n",
       "</div>"
      ],
      "text/plain": [
       "    profile_id os_version device_manufacturer   device_model device_type  \\\n",
       "0  JLjpGzDHBQm         11             Samsung  Galaxy Tab S6      tablet   \n",
       "1  JLjpGzDHBQm         11             Samsung  Galaxy Tab S6      tablet   \n",
       "2  JLkVacrzHY6         11              Google        Pixel 2       phone   \n",
       "3  JMC6wG3cX0f         10             Samsung      Galaxy S9       phone   \n",
       "4  JLzWWTJfi1b         10             Samsung      Galaxy S9       phone   \n",
       "\n",
       "  device_locale    event_name  \\\n",
       "0         en_US  c_ad_revenue   \n",
       "1         en_US  c_ad_revenue   \n",
       "2         en_US  c_ad_revenue   \n",
       "3         en_US  c_ad_revenue   \n",
       "4         en_US  c_ad_revenue   \n",
       "\n",
       "                                          event_json       event_datetime  \\\n",
       "0  {\"ad_type\":\"banner\",\"placement\":\"\",\"view_index...  2022-02-04 20:02:28   \n",
       "1  {\"ad_type\":\"banner\",\"placement\":\"\",\"view_index...  2022-02-04 20:02:45   \n",
       "2  {\"ad_type\":\"banner\",\"placement\":\"\",\"view_index...  2022-02-05 17:53:05   \n",
       "3  {\"ad_type\":\"int\",\"placement\":\"next_level\",\"vie...  2022-02-06 17:09:01   \n",
       "4  {\"ad_type\":\"banner\",\"placement\":\"\",\"view_index...  2022-02-06 17:15:38   \n",
       "\n",
       "   event_timestamp event_receive_datetime  event_receive_timestamp  \\\n",
       "0       1643994148    2022-02-06 17:58:19               1644159499   \n",
       "1       1643994165    2022-02-06 17:58:19               1644159499   \n",
       "2       1644072785    2022-02-06 16:59:29               1644155969   \n",
       "3       1644156541    2022-02-06 17:09:24               1644156564   \n",
       "4       1644156938    2022-02-06 17:16:16               1644156976   \n",
       "\n",
       "  connection_type operator_name country_iso_code       city  \n",
       "0            wifi           NaN               US    Norwalk  \n",
       "1            wifi           NaN               US    Norwalk  \n",
       "2            wifi       Verizon               US  Charlotte  \n",
       "3            wifi      T-Mobile               US      Cocoa  \n",
       "4            cell      Verizon                US        NaN  "
      ]
     },
     "execution_count": 3,
     "metadata": {},
     "output_type": "execute_result"
    }
   ],
   "source": [
    "df.head()"
   ]
  },
  {
   "cell_type": "markdown",
   "metadata": {
    "id": "XhFnvXa7VI3n"
   },
   "source": [
    "Столбец profile_id – id юзера\n",
    "\n",
    "Столбец event_json содержит данные о событии показа рекламы:\n",
    "\n",
    "ad_type – формат рекламы (int, banner или rv)\n",
    "\n",
    "placement – когда/где был показ рекламы в игре\n",
    "\n",
    "view_index – номер показа конкретного формата рекламы для юзера (не\n",
    "поддерживается для баннеров)\n",
    "\n",
    "revenue – доход от конкретного показа рекламы (eCPM = revenue * 1000)\n",
    "\n",
    "ads_ltv – накапливающийся доход от рекламы, равен сумме всех revenue\n",
    "юзера\n",
    "\n",
    "network_name – рекламная сеть, от которой был показ"
   ]
  },
  {
   "cell_type": "code",
   "execution_count": 4,
   "metadata": {
    "colab": {
     "base_uri": "https://localhost:8080/"
    },
    "executionInfo": {
     "elapsed": 328,
     "status": "ok",
     "timestamp": 1655301163624,
     "user": {
      "displayName": "мое имя",
      "userId": "04682591971747797754"
     },
     "user_tz": -300
    },
    "id": "S7kzGKvEXHMk",
    "outputId": "b578e626-0921-4ecd-b654-1df9e8945a3b"
   },
   "outputs": [
    {
     "data": {
      "text/plain": [
       "(860079, 16)"
      ]
     },
     "execution_count": 4,
     "metadata": {},
     "output_type": "execute_result"
    }
   ],
   "source": [
    "df.shape"
   ]
  },
  {
   "cell_type": "code",
   "execution_count": 5,
   "metadata": {
    "colab": {
     "base_uri": "https://localhost:8080/"
    },
    "executionInfo": {
     "elapsed": 313,
     "status": "ok",
     "timestamp": 1655301165506,
     "user": {
      "displayName": "мое имя",
      "userId": "04682591971747797754"
     },
     "user_tz": -300
    },
    "id": "U6dsdN2jVthm",
    "outputId": "7234a6c7-b156-4f25-9079-5de795c77bea"
   },
   "outputs": [
    {
     "name": "stdout",
     "output_type": "stream",
     "text": [
      "<class 'pandas.core.frame.DataFrame'>\n",
      "RangeIndex: 860079 entries, 0 to 860078\n",
      "Data columns (total 16 columns):\n",
      " #   Column                   Non-Null Count   Dtype \n",
      "---  ------                   --------------   ----- \n",
      " 0   profile_id               860065 non-null  object\n",
      " 1   os_version               860079 non-null  object\n",
      " 2   device_manufacturer      860079 non-null  object\n",
      " 3   device_model             860079 non-null  object\n",
      " 4   device_type              860079 non-null  object\n",
      " 5   device_locale            860079 non-null  object\n",
      " 6   event_name               860079 non-null  object\n",
      " 7   event_json               860079 non-null  object\n",
      " 8   event_datetime           860079 non-null  object\n",
      " 9   event_timestamp          860079 non-null  int64 \n",
      " 10  event_receive_datetime   860079 non-null  object\n",
      " 11  event_receive_timestamp  860079 non-null  int64 \n",
      " 12  connection_type          860079 non-null  object\n",
      " 13  operator_name            841200 non-null  object\n",
      " 14  country_iso_code         860079 non-null  object\n",
      " 15  city                     536371 non-null  object\n",
      "dtypes: int64(2), object(14)\n",
      "memory usage: 105.0+ MB\n"
     ]
    }
   ],
   "source": [
    "df.info()\n",
    "# пустые значения есть в столбцах id профиля\n",
    "# название оператора, город"
   ]
  },
  {
   "cell_type": "code",
   "execution_count": 6,
   "metadata": {
    "colab": {
     "base_uri": "https://localhost:8080/"
    },
    "executionInfo": {
     "elapsed": 3372,
     "status": "ok",
     "timestamp": 1655301171113,
     "user": {
      "displayName": "мое имя",
      "userId": "04682591971747797754"
     },
     "user_tz": -300
    },
    "id": "cUXJoT5bcK4d",
    "outputId": "b39113f5-26b9-4488-929b-465d56f8abe4"
   },
   "outputs": [
    {
     "data": {
      "text/plain": [
       "0"
      ]
     },
     "execution_count": 6,
     "metadata": {},
     "output_type": "execute_result"
    }
   ],
   "source": [
    "df.duplicated().sum()\n",
    "#  дубликатов нет"
   ]
  },
  {
   "cell_type": "markdown",
   "metadata": {
    "id": "JvriA5VbKD4a"
   },
   "source": [
    "Преобразуем данные столбца event_json в отдельные столбцы"
   ]
  },
  {
   "cell_type": "code",
   "execution_count": 7,
   "metadata": {
    "id": "s3WBoLJj4c0G"
   },
   "outputs": [],
   "source": [
    "df.event_json = df.event_json.apply(lambda x: json.loads(x))"
   ]
  },
  {
   "cell_type": "code",
   "execution_count": 8,
   "metadata": {
    "id": "9XgS2e5Syc3q"
   },
   "outputs": [],
   "source": [
    "df_json = pd.json_normalize(df['event_json'])"
   ]
  },
  {
   "cell_type": "code",
   "execution_count": 9,
   "metadata": {
    "id": "cOJ77qGZgjlt"
   },
   "outputs": [],
   "source": [
    "df = pd.concat([df, df_json], axis=1)"
   ]
  },
  {
   "cell_type": "code",
   "execution_count": 10,
   "metadata": {
    "colab": {
     "base_uri": "https://localhost:8080/"
    },
    "executionInfo": {
     "elapsed": 291,
     "status": "ok",
     "timestamp": 1655301467136,
     "user": {
      "displayName": "мое имя",
      "userId": "04682591971747797754"
     },
     "user_tz": -300
    },
    "id": "OQ80McN45MIr",
    "outputId": "eb15ca7f-6a44-44e4-89d1-e51cbfb9a4ae"
   },
   "outputs": [
    {
     "data": {
      "text/plain": [
       "(860079, 33)"
      ]
     },
     "execution_count": 10,
     "metadata": {},
     "output_type": "execute_result"
    }
   ],
   "source": [
    "df.shape"
   ]
  },
  {
   "cell_type": "code",
   "execution_count": 11,
   "metadata": {
    "colab": {
     "base_uri": "https://localhost:8080/",
     "height": 577
    },
    "executionInfo": {
     "elapsed": 9,
     "status": "ok",
     "timestamp": 1655301468370,
     "user": {
      "displayName": "мое имя",
      "userId": "04682591971747797754"
     },
     "user_tz": -300
    },
    "id": "jIK1Cr5tKS5a",
    "outputId": "f98a8691-78a7-4523-8100-dc9baeb153bb"
   },
   "outputs": [
    {
     "data": {
      "text/html": [
       "<div>\n",
       "<style scoped>\n",
       "    .dataframe tbody tr th:only-of-type {\n",
       "        vertical-align: middle;\n",
       "    }\n",
       "\n",
       "    .dataframe tbody tr th {\n",
       "        vertical-align: top;\n",
       "    }\n",
       "\n",
       "    .dataframe thead th {\n",
       "        text-align: right;\n",
       "    }\n",
       "</style>\n",
       "<table border=\"1\" class=\"dataframe\">\n",
       "  <thead>\n",
       "    <tr style=\"text-align: right;\">\n",
       "      <th></th>\n",
       "      <th>profile_id</th>\n",
       "      <th>os_version</th>\n",
       "      <th>device_manufacturer</th>\n",
       "      <th>device_model</th>\n",
       "      <th>device_type</th>\n",
       "      <th>device_locale</th>\n",
       "      <th>event_name</th>\n",
       "      <th>event_json</th>\n",
       "      <th>event_datetime</th>\n",
       "      <th>event_timestamp</th>\n",
       "      <th>...</th>\n",
       "      <th>ads_ltv</th>\n",
       "      <th>ecpm_sma</th>\n",
       "      <th>normalized_ecpm_sma</th>\n",
       "      <th>value</th>\n",
       "      <th>currency</th>\n",
       "      <th>ad_country_code</th>\n",
       "      <th>network_name</th>\n",
       "      <th>ad_unit_id</th>\n",
       "      <th>ad_network_placement</th>\n",
       "      <th>creativeId</th>\n",
       "    </tr>\n",
       "  </thead>\n",
       "  <tbody>\n",
       "    <tr>\n",
       "      <th>0</th>\n",
       "      <td>JLjpGzDHBQm</td>\n",
       "      <td>11</td>\n",
       "      <td>Samsung</td>\n",
       "      <td>Galaxy Tab S6</td>\n",
       "      <td>tablet</td>\n",
       "      <td>en_US</td>\n",
       "      <td>c_ad_revenue</td>\n",
       "      <td>{'ad_type': 'banner', 'placement': '', 'view_i...</td>\n",
       "      <td>2022-02-04 20:02:28</td>\n",
       "      <td>1643994148</td>\n",
       "      <td>...</td>\n",
       "      <td>0.487877</td>\n",
       "      <td>0.511508</td>\n",
       "      <td>0.511508</td>\n",
       "      <td>0.000510</td>\n",
       "      <td>USD</td>\n",
       "      <td>US</td>\n",
       "      <td>Google AdMob</td>\n",
       "      <td>64c6b1114ea8c1cc</td>\n",
       "      <td>ca-app-pub-7511632782617496/8825263691</td>\n",
       "      <td>CJ3XirfD5vUCFYPnKAUdG3MOYQ</td>\n",
       "    </tr>\n",
       "    <tr>\n",
       "      <th>1</th>\n",
       "      <td>JLjpGzDHBQm</td>\n",
       "      <td>11</td>\n",
       "      <td>Samsung</td>\n",
       "      <td>Galaxy Tab S6</td>\n",
       "      <td>tablet</td>\n",
       "      <td>en_US</td>\n",
       "      <td>c_ad_revenue</td>\n",
       "      <td>{'ad_type': 'banner', 'placement': '', 'view_i...</td>\n",
       "      <td>2022-02-04 20:02:45</td>\n",
       "      <td>1643994165</td>\n",
       "      <td>...</td>\n",
       "      <td>0.488387</td>\n",
       "      <td>0.511389</td>\n",
       "      <td>0.511389</td>\n",
       "      <td>0.000510</td>\n",
       "      <td>USD</td>\n",
       "      <td>US</td>\n",
       "      <td>Google AdMob</td>\n",
       "      <td>64c6b1114ea8c1cc</td>\n",
       "      <td>ca-app-pub-7511632782617496/8825263691</td>\n",
       "      <td>CNa-lL_D5vUCFZrpKAUdU2QBDQ</td>\n",
       "    </tr>\n",
       "    <tr>\n",
       "      <th>2</th>\n",
       "      <td>JLkVacrzHY6</td>\n",
       "      <td>11</td>\n",
       "      <td>Google</td>\n",
       "      <td>Pixel 2</td>\n",
       "      <td>phone</td>\n",
       "      <td>en_US</td>\n",
       "      <td>c_ad_revenue</td>\n",
       "      <td>{'ad_type': 'banner', 'placement': '', 'view_i...</td>\n",
       "      <td>2022-02-05 17:53:05</td>\n",
       "      <td>1644072785</td>\n",
       "      <td>...</td>\n",
       "      <td>0.678479</td>\n",
       "      <td>0.928597</td>\n",
       "      <td>0.928597</td>\n",
       "      <td>0.002386</td>\n",
       "      <td>USD</td>\n",
       "      <td>US</td>\n",
       "      <td>APPLOVIN_EXCHANGE</td>\n",
       "      <td>64c6b1114ea8c1cc</td>\n",
       "      <td>banner_regular</td>\n",
       "      <td>pandora-58</td>\n",
       "    </tr>\n",
       "    <tr>\n",
       "      <th>3</th>\n",
       "      <td>JMC6wG3cX0f</td>\n",
       "      <td>10</td>\n",
       "      <td>Samsung</td>\n",
       "      <td>Galaxy S9</td>\n",
       "      <td>phone</td>\n",
       "      <td>en_US</td>\n",
       "      <td>c_ad_revenue</td>\n",
       "      <td>{'ad_type': 'int', 'placement': 'next_level', ...</td>\n",
       "      <td>2022-02-06 17:09:01</td>\n",
       "      <td>1644156541</td>\n",
       "      <td>...</td>\n",
       "      <td>0.013894</td>\n",
       "      <td>13.782633</td>\n",
       "      <td>13.893784</td>\n",
       "      <td>0.013894</td>\n",
       "      <td>USD</td>\n",
       "      <td>US</td>\n",
       "      <td>AppLovin</td>\n",
       "      <td>3ab7705b07ebb75f</td>\n",
       "      <td>inter_regular</td>\n",
       "      <td>13045364</td>\n",
       "    </tr>\n",
       "    <tr>\n",
       "      <th>4</th>\n",
       "      <td>JLzWWTJfi1b</td>\n",
       "      <td>10</td>\n",
       "      <td>Samsung</td>\n",
       "      <td>Galaxy S9</td>\n",
       "      <td>phone</td>\n",
       "      <td>en_US</td>\n",
       "      <td>c_ad_revenue</td>\n",
       "      <td>{'ad_type': 'banner', 'placement': '', 'view_i...</td>\n",
       "      <td>2022-02-06 17:15:38</td>\n",
       "      <td>1644156938</td>\n",
       "      <td>...</td>\n",
       "      <td>0.060571</td>\n",
       "      <td>1.660282</td>\n",
       "      <td>1.660282</td>\n",
       "      <td>0.006828</td>\n",
       "      <td>USD</td>\n",
       "      <td>US</td>\n",
       "      <td>Google AdMob</td>\n",
       "      <td>64c6b1114ea8c1cc</td>\n",
       "      <td>ca-app-pub-7511632782617496/6197324251</td>\n",
       "      <td>CMTi5e-h6_UCFUdVwQodt9EIMw</td>\n",
       "    </tr>\n",
       "  </tbody>\n",
       "</table>\n",
       "<p>5 rows × 33 columns</p>\n",
       "</div>"
      ],
      "text/plain": [
       "    profile_id os_version device_manufacturer   device_model device_type  \\\n",
       "0  JLjpGzDHBQm         11             Samsung  Galaxy Tab S6      tablet   \n",
       "1  JLjpGzDHBQm         11             Samsung  Galaxy Tab S6      tablet   \n",
       "2  JLkVacrzHY6         11              Google        Pixel 2       phone   \n",
       "3  JMC6wG3cX0f         10             Samsung      Galaxy S9       phone   \n",
       "4  JLzWWTJfi1b         10             Samsung      Galaxy S9       phone   \n",
       "\n",
       "  device_locale    event_name  \\\n",
       "0         en_US  c_ad_revenue   \n",
       "1         en_US  c_ad_revenue   \n",
       "2         en_US  c_ad_revenue   \n",
       "3         en_US  c_ad_revenue   \n",
       "4         en_US  c_ad_revenue   \n",
       "\n",
       "                                          event_json       event_datetime  \\\n",
       "0  {'ad_type': 'banner', 'placement': '', 'view_i...  2022-02-04 20:02:28   \n",
       "1  {'ad_type': 'banner', 'placement': '', 'view_i...  2022-02-04 20:02:45   \n",
       "2  {'ad_type': 'banner', 'placement': '', 'view_i...  2022-02-05 17:53:05   \n",
       "3  {'ad_type': 'int', 'placement': 'next_level', ...  2022-02-06 17:09:01   \n",
       "4  {'ad_type': 'banner', 'placement': '', 'view_i...  2022-02-06 17:15:38   \n",
       "\n",
       "   event_timestamp  ...   ads_ltv   ecpm_sma normalized_ecpm_sma     value  \\\n",
       "0       1643994148  ...  0.487877   0.511508            0.511508  0.000510   \n",
       "1       1643994165  ...  0.488387   0.511389            0.511389  0.000510   \n",
       "2       1644072785  ...  0.678479   0.928597            0.928597  0.002386   \n",
       "3       1644156541  ...  0.013894  13.782633           13.893784  0.013894   \n",
       "4       1644156938  ...  0.060571   1.660282            1.660282  0.006828   \n",
       "\n",
       "  currency ad_country_code       network_name        ad_unit_id  \\\n",
       "0      USD              US       Google AdMob  64c6b1114ea8c1cc   \n",
       "1      USD              US       Google AdMob  64c6b1114ea8c1cc   \n",
       "2      USD              US  APPLOVIN_EXCHANGE  64c6b1114ea8c1cc   \n",
       "3      USD              US           AppLovin  3ab7705b07ebb75f   \n",
       "4      USD              US       Google AdMob  64c6b1114ea8c1cc   \n",
       "\n",
       "                     ad_network_placement                  creativeId  \n",
       "0  ca-app-pub-7511632782617496/8825263691  CJ3XirfD5vUCFYPnKAUdG3MOYQ  \n",
       "1  ca-app-pub-7511632782617496/8825263691  CNa-lL_D5vUCFZrpKAUdU2QBDQ  \n",
       "2                          banner_regular                  pandora-58  \n",
       "3                           inter_regular                    13045364  \n",
       "4  ca-app-pub-7511632782617496/6197324251  CMTi5e-h6_UCFUdVwQodt9EIMw  \n",
       "\n",
       "[5 rows x 33 columns]"
      ]
     },
     "execution_count": 11,
     "metadata": {},
     "output_type": "execute_result"
    }
   ],
   "source": [
    "df.head()"
   ]
  },
  {
   "cell_type": "code",
   "execution_count": 13,
   "metadata": {
    "id": "6v19SpouHazV"
   },
   "outputs": [],
   "source": [
    "df['eCPM'] = df['revenue'] * 1000"
   ]
  },
  {
   "cell_type": "markdown",
   "metadata": {
    "id": "tvc6hZ30HHK9"
   },
   "source": [
    "\n",
    "# Для каждого формата рекламы построить распределение средних eCPM-ов юзеров\n",
    "\n",
    "ad_type – формат рекламы (int, banner или rv)"
   ]
  },
  {
   "cell_type": "code",
   "execution_count": 14,
   "metadata": {
    "colab": {
     "base_uri": "https://localhost:8080/",
     "height": 354
    },
    "executionInfo": {
     "elapsed": 866,
     "status": "ok",
     "timestamp": 1655302287659,
     "user": {
      "displayName": "мое имя",
      "userId": "04682591971747797754"
     },
     "user_tz": -300
    },
    "id": "z9FK2u4o6wPe",
    "outputId": "49109b98-debf-4b44-c278-fa0e7e4bcb16"
   },
   "outputs": [
    {
     "data": {
      "image/png": "[encoded data removed]",
      "text/plain": [
       "<Figure size 1080x360 with 3 Axes>"
      ]
     },
     "metadata": {
      "needs_background": "light"
     },
     "output_type": "display_data"
    }
   ],
   "source": [
    "plt.figure(figsize=(15,5))\n",
    "\n",
    "plt.subplot(1, 3, 1)\n",
    "plt.hist(df.groupby(['ad_type', 'profile_id'], as_index=False).agg({'eCPM': 'mean'}) \\\n",
    "  .query('ad_type == \"banner\"').eCPM, bins = 50)\n",
    "plt.xlabel('eCPM')\n",
    "plt.title(\"для формата рекламы banner\")\n",
    "\n",
    "plt.subplot(1, 3, 2)\n",
    "plt.hist(df.groupby(['ad_type', 'profile_id'], as_index=False).agg({'eCPM': 'mean'}) \\\n",
    "  .query('ad_type == \"int\"').eCPM, bins = 50)\n",
    "plt.xlabel('eCPM')\n",
    "plt.title(\"для формата рекламы int\")\n",
    "\n",
    "plt.subplot(1, 3, 3)\n",
    "plt.hist(df.groupby(['ad_type', 'profile_id'], as_index=False).agg({'eCPM': 'mean'}) \\\n",
    "  .query('ad_type == \"rv\"').eCPM, bins = 50)\n",
    "plt.xlabel('eCPM')\n",
    "plt.title(\"для формата рекламы rv\")\n",
    "\n",
    "plt.suptitle(\"Распределение средних eCPM-ов юзеров\", size = 15, y = 1)\n",
    "\n",
    "plt.show()"
   ]
  },
  {
   "cell_type": "markdown",
   "metadata": {},
   "source": [
    "Видим значительные выборы, посмотрим на боксплот"
   ]
  },
  {
   "cell_type": "code",
   "execution_count": 15,
   "metadata": {},
   "outputs": [
    {
     "data": {
      "text/html": [
       "<div>\n",
       "<style scoped>\n",
       "    .dataframe tbody tr th:only-of-type {\n",
       "        vertical-align: middle;\n",
       "    }\n",
       "\n",
       "    .dataframe tbody tr th {\n",
       "        vertical-align: top;\n",
       "    }\n",
       "\n",
       "    .dataframe thead th {\n",
       "        text-align: right;\n",
       "    }\n",
       "</style>\n",
       "<table border=\"1\" class=\"dataframe\">\n",
       "  <thead>\n",
       "    <tr style=\"text-align: right;\">\n",
       "      <th></th>\n",
       "      <th>ad_type</th>\n",
       "      <th>profile_id</th>\n",
       "      <th>eCPM</th>\n",
       "    </tr>\n",
       "  </thead>\n",
       "  <tbody>\n",
       "    <tr>\n",
       "      <th>0</th>\n",
       "      <td>banner</td>\n",
       "      <td>JL00qCZH1HV</td>\n",
       "      <td>3.183940</td>\n",
       "    </tr>\n",
       "    <tr>\n",
       "      <th>1</th>\n",
       "      <td>banner</td>\n",
       "      <td>JL015rw9vmN</td>\n",
       "      <td>1.160748</td>\n",
       "    </tr>\n",
       "    <tr>\n",
       "      <th>2</th>\n",
       "      <td>banner</td>\n",
       "      <td>JL01aCdFTJy</td>\n",
       "      <td>0.740097</td>\n",
       "    </tr>\n",
       "    <tr>\n",
       "      <th>3</th>\n",
       "      <td>banner</td>\n",
       "      <td>JL04ODuw9UP</td>\n",
       "      <td>0.213227</td>\n",
       "    </tr>\n",
       "    <tr>\n",
       "      <th>4</th>\n",
       "      <td>banner</td>\n",
       "      <td>JL06OWhBYxn</td>\n",
       "      <td>0.468146</td>\n",
       "    </tr>\n",
       "    <tr>\n",
       "      <th>...</th>\n",
       "      <td>...</td>\n",
       "      <td>...</td>\n",
       "      <td>...</td>\n",
       "    </tr>\n",
       "    <tr>\n",
       "      <th>3503</th>\n",
       "      <td>banner</td>\n",
       "      <td>JMLPzy9jBZu</td>\n",
       "      <td>0.474300</td>\n",
       "    </tr>\n",
       "    <tr>\n",
       "      <th>3504</th>\n",
       "      <td>banner</td>\n",
       "      <td>JMLQTj4i34Y</td>\n",
       "      <td>0.178844</td>\n",
       "    </tr>\n",
       "    <tr>\n",
       "      <th>3505</th>\n",
       "      <td>banner</td>\n",
       "      <td>JMLY5SO7wmn</td>\n",
       "      <td>0.306027</td>\n",
       "    </tr>\n",
       "    <tr>\n",
       "      <th>3506</th>\n",
       "      <td>banner</td>\n",
       "      <td>JMLt54Rmui5</td>\n",
       "      <td>0.300763</td>\n",
       "    </tr>\n",
       "    <tr>\n",
       "      <th>3507</th>\n",
       "      <td>banner</td>\n",
       "      <td>JMML6MrvRA4</td>\n",
       "      <td>0.419296</td>\n",
       "    </tr>\n",
       "  </tbody>\n",
       "</table>\n",
       "<p>3508 rows × 3 columns</p>\n",
       "</div>"
      ],
      "text/plain": [
       "     ad_type   profile_id      eCPM\n",
       "0     banner  JL00qCZH1HV  3.183940\n",
       "1     banner  JL015rw9vmN  1.160748\n",
       "2     banner  JL01aCdFTJy  0.740097\n",
       "3     banner  JL04ODuw9UP  0.213227\n",
       "4     banner  JL06OWhBYxn  0.468146\n",
       "...      ...          ...       ...\n",
       "3503  banner  JMLPzy9jBZu  0.474300\n",
       "3504  banner  JMLQTj4i34Y  0.178844\n",
       "3505  banner  JMLY5SO7wmn  0.306027\n",
       "3506  banner  JMLt54Rmui5  0.300763\n",
       "3507  banner  JMML6MrvRA4  0.419296\n",
       "\n",
       "[3508 rows x 3 columns]"
      ]
     },
     "execution_count": 15,
     "metadata": {},
     "output_type": "execute_result"
    }
   ],
   "source": [
    "df.groupby(['ad_type', 'profile_id'], as_index=False).agg({'eCPM': 'mean'}).query('ad_type == \"banner\"')"
   ]
  },
  {
   "cell_type": "code",
   "execution_count": 58,
   "metadata": {},
   "outputs": [
    {
     "data": {
      "image/png": "[encoded data removed]",
      "text/plain": [
       "<Figure size 1080x720 with 3 Axes>"
      ]
     },
     "metadata": {
      "needs_background": "light"
     },
     "output_type": "display_data"
    }
   ],
   "source": [
    "plt.figure(figsize=(15, 10))\n",
    "\n",
    "plt.subplot(1, 3, 1)\n",
    "sns.boxplot(y = df.groupby(['ad_type', 'profile_id'], as_index=False).agg({'eCPM': 'mean'}).query('ad_type == \"banner\"').eCPM).set(ylabel=None)\n",
    "plt.title(\"для формата рекламы banner\")\n",
    "\n",
    "plt.subplot(1, 3, 2)\n",
    "sns.boxplot(y = df.groupby(['ad_type', 'profile_id'], as_index=False).agg({'eCPM': 'mean'}).query('ad_type == \"int\"').eCPM).set(ylabel=None)\n",
    "plt.title(\"для формата рекламы int\")\n",
    "\n",
    "plt.subplot(1, 3, 3)\n",
    "sns.boxplot(y = df.groupby(['ad_type', 'profile_id'], as_index=False).agg({'eCPM': 'mean'}).query('ad_type == \"rv\"').eCPM).set(ylabel=None)\n",
    "plt.title(\"для формата рекламы rv\")\n",
    "\n",
    "plt.suptitle(\"Распределение средних eCPM-ов юзеров\", size = 15)\n",
    "plt.show()"
   ]
  },
  {
   "cell_type": "code",
   "execution_count": 57,
   "metadata": {},
   "outputs": [
    {
     "data": {
      "text/html": [
       "<div>\n",
       "<style scoped>\n",
       "    .dataframe tbody tr th:only-of-type {\n",
       "        vertical-align: middle;\n",
       "    }\n",
       "\n",
       "    .dataframe tbody tr th {\n",
       "        vertical-align: top;\n",
       "    }\n",
       "\n",
       "    .dataframe thead th {\n",
       "        text-align: right;\n",
       "    }\n",
       "</style>\n",
       "<table border=\"1\" class=\"dataframe\">\n",
       "  <thead>\n",
       "    <tr style=\"text-align: right;\">\n",
       "      <th></th>\n",
       "      <th>eCPM</th>\n",
       "    </tr>\n",
       "  </thead>\n",
       "  <tbody>\n",
       "    <tr>\n",
       "      <th>count</th>\n",
       "      <td>3508.000000</td>\n",
       "    </tr>\n",
       "    <tr>\n",
       "      <th>mean</th>\n",
       "      <td>1.157111</td>\n",
       "    </tr>\n",
       "    <tr>\n",
       "      <th>std</th>\n",
       "      <td>1.867792</td>\n",
       "    </tr>\n",
       "    <tr>\n",
       "      <th>min</th>\n",
       "      <td>0.013930</td>\n",
       "    </tr>\n",
       "    <tr>\n",
       "      <th>25%</th>\n",
       "      <td>0.322804</td>\n",
       "    </tr>\n",
       "    <tr>\n",
       "      <th>50%</th>\n",
       "      <td>0.583002</td>\n",
       "    </tr>\n",
       "    <tr>\n",
       "      <th>75%</th>\n",
       "      <td>1.297329</td>\n",
       "    </tr>\n",
       "    <tr>\n",
       "      <th>max</th>\n",
       "      <td>43.021387</td>\n",
       "    </tr>\n",
       "  </tbody>\n",
       "</table>\n",
       "</div>"
      ],
      "text/plain": [
       "              eCPM\n",
       "count  3508.000000\n",
       "mean      1.157111\n",
       "std       1.867792\n",
       "min       0.013930\n",
       "25%       0.322804\n",
       "50%       0.583002\n",
       "75%       1.297329\n",
       "max      43.021387"
      ]
     },
     "execution_count": 57,
     "metadata": {},
     "output_type": "execute_result"
    }
   ],
   "source": [
    "df.groupby(['ad_type', 'profile_id'], as_index=False).agg({'eCPM': 'mean'}).query('ad_type == \"banner\"').describe()"
   ]
  },
  {
   "cell_type": "code",
   "execution_count": 59,
   "metadata": {},
   "outputs": [
    {
     "data": {
      "text/html": [
       "<div>\n",
       "<style scoped>\n",
       "    .dataframe tbody tr th:only-of-type {\n",
       "        vertical-align: middle;\n",
       "    }\n",
       "\n",
       "    .dataframe tbody tr th {\n",
       "        vertical-align: top;\n",
       "    }\n",
       "\n",
       "    .dataframe thead th {\n",
       "        text-align: right;\n",
       "    }\n",
       "</style>\n",
       "<table border=\"1\" class=\"dataframe\">\n",
       "  <thead>\n",
       "    <tr style=\"text-align: right;\">\n",
       "      <th></th>\n",
       "      <th>eCPM</th>\n",
       "    </tr>\n",
       "  </thead>\n",
       "  <tbody>\n",
       "    <tr>\n",
       "      <th>count</th>\n",
       "      <td>3962.000000</td>\n",
       "    </tr>\n",
       "    <tr>\n",
       "      <th>mean</th>\n",
       "      <td>45.557457</td>\n",
       "    </tr>\n",
       "    <tr>\n",
       "      <th>std</th>\n",
       "      <td>46.877344</td>\n",
       "    </tr>\n",
       "    <tr>\n",
       "      <th>min</th>\n",
       "      <td>0.000000</td>\n",
       "    </tr>\n",
       "    <tr>\n",
       "      <th>25%</th>\n",
       "      <td>17.620615</td>\n",
       "    </tr>\n",
       "    <tr>\n",
       "      <th>50%</th>\n",
       "      <td>27.623670</td>\n",
       "    </tr>\n",
       "    <tr>\n",
       "      <th>75%</th>\n",
       "      <td>56.397665</td>\n",
       "    </tr>\n",
       "    <tr>\n",
       "      <th>max</th>\n",
       "      <td>568.678270</td>\n",
       "    </tr>\n",
       "  </tbody>\n",
       "</table>\n",
       "</div>"
      ],
      "text/plain": [
       "              eCPM\n",
       "count  3962.000000\n",
       "mean     45.557457\n",
       "std      46.877344\n",
       "min       0.000000\n",
       "25%      17.620615\n",
       "50%      27.623670\n",
       "75%      56.397665\n",
       "max     568.678270"
      ]
     },
     "execution_count": 59,
     "metadata": {},
     "output_type": "execute_result"
    }
   ],
   "source": [
    "df.groupby(['ad_type', 'profile_id'], as_index=False).agg({'eCPM': 'mean'}).query('ad_type == \"int\"').describe()"
   ]
  },
  {
   "cell_type": "code",
   "execution_count": 60,
   "metadata": {},
   "outputs": [
    {
     "data": {
      "text/html": [
       "<div>\n",
       "<style scoped>\n",
       "    .dataframe tbody tr th:only-of-type {\n",
       "        vertical-align: middle;\n",
       "    }\n",
       "\n",
       "    .dataframe tbody tr th {\n",
       "        vertical-align: top;\n",
       "    }\n",
       "\n",
       "    .dataframe thead th {\n",
       "        text-align: right;\n",
       "    }\n",
       "</style>\n",
       "<table border=\"1\" class=\"dataframe\">\n",
       "  <thead>\n",
       "    <tr style=\"text-align: right;\">\n",
       "      <th></th>\n",
       "      <th>eCPM</th>\n",
       "    </tr>\n",
       "  </thead>\n",
       "  <tbody>\n",
       "    <tr>\n",
       "      <th>count</th>\n",
       "      <td>1324.000000</td>\n",
       "    </tr>\n",
       "    <tr>\n",
       "      <th>mean</th>\n",
       "      <td>80.502004</td>\n",
       "    </tr>\n",
       "    <tr>\n",
       "      <th>std</th>\n",
       "      <td>79.154906</td>\n",
       "    </tr>\n",
       "    <tr>\n",
       "      <th>min</th>\n",
       "      <td>0.223222</td>\n",
       "    </tr>\n",
       "    <tr>\n",
       "      <th>25%</th>\n",
       "      <td>28.240000</td>\n",
       "    </tr>\n",
       "    <tr>\n",
       "      <th>50%</th>\n",
       "      <td>46.019935</td>\n",
       "    </tr>\n",
       "    <tr>\n",
       "      <th>75%</th>\n",
       "      <td>98.067206</td>\n",
       "    </tr>\n",
       "    <tr>\n",
       "      <th>max</th>\n",
       "      <td>808.294820</td>\n",
       "    </tr>\n",
       "  </tbody>\n",
       "</table>\n",
       "</div>"
      ],
      "text/plain": [
       "              eCPM\n",
       "count  1324.000000\n",
       "mean     80.502004\n",
       "std      79.154906\n",
       "min       0.223222\n",
       "25%      28.240000\n",
       "50%      46.019935\n",
       "75%      98.067206\n",
       "max     808.294820"
      ]
     },
     "execution_count": 60,
     "metadata": {},
     "output_type": "execute_result"
    }
   ],
   "source": [
    "df.groupby(['ad_type', 'profile_id'], as_index=False).agg({'eCPM': 'mean'}).query('ad_type == \"rv\"').describe()"
   ]
  },
  {
   "cell_type": "markdown",
   "metadata": {},
   "source": [
    "В среднем от одного пользователя при просмотре баннерной рекламы поступающий доход находится в диапозоне от 0,32 до 1,3 долларов, при просмотре полноэкранной рекламы от 17,62 до 56,4 долларов и видео в диапозоне от 28,24 до 98,07 долларов.\n",
    "Минимальный доход, полученный от баннерной рекламы 0,01 доллар, от полноэкранной - 0 долларов и от видео - 0,22 доллара. Медианные доходы от реклам: banner - 0.58 долларов, int - 27.62 доллара, rv - 46,02 доллара."
   ]
  },
  {
   "cell_type": "markdown",
   "metadata": {
    "id": "lEXA0xJhIUdO"
   },
   "source": [
    "#  Распределение средних CPM-ов по городам для каждого формата рекламы"
   ]
  },
  {
   "cell_type": "code",
   "execution_count": 17,
   "metadata": {
    "colab": {
     "base_uri": "https://localhost:8080/",
     "height": 424
    },
    "executionInfo": {
     "elapsed": 340,
     "status": "ok",
     "timestamp": 1655303697708,
     "user": {
      "displayName": "мое имя",
      "userId": "04682591971747797754"
     },
     "user_tz": -300
    },
    "id": "Sg5mb7yGH0Bk",
    "outputId": "115c8bdd-bbdd-4985-e945-2a412363e4dc"
   },
   "outputs": [
    {
     "data": {
      "text/html": [
       "<div>\n",
       "<style scoped>\n",
       "    .dataframe tbody tr th:only-of-type {\n",
       "        vertical-align: middle;\n",
       "    }\n",
       "\n",
       "    .dataframe tbody tr th {\n",
       "        vertical-align: top;\n",
       "    }\n",
       "\n",
       "    .dataframe thead th {\n",
       "        text-align: right;\n",
       "    }\n",
       "</style>\n",
       "<table border=\"1\" class=\"dataframe\">\n",
       "  <thead>\n",
       "    <tr style=\"text-align: right;\">\n",
       "      <th></th>\n",
       "      <th>ad_type</th>\n",
       "      <th>eCPM</th>\n",
       "      <th>city</th>\n",
       "      <th>os_version</th>\n",
       "    </tr>\n",
       "  </thead>\n",
       "  <tbody>\n",
       "    <tr>\n",
       "      <th>0</th>\n",
       "      <td>banner</td>\n",
       "      <td>0.510313</td>\n",
       "      <td>Norwalk</td>\n",
       "      <td>11</td>\n",
       "    </tr>\n",
       "    <tr>\n",
       "      <th>1</th>\n",
       "      <td>banner</td>\n",
       "      <td>0.510313</td>\n",
       "      <td>Norwalk</td>\n",
       "      <td>11</td>\n",
       "    </tr>\n",
       "    <tr>\n",
       "      <th>2</th>\n",
       "      <td>banner</td>\n",
       "      <td>2.386163</td>\n",
       "      <td>Charlotte</td>\n",
       "      <td>11</td>\n",
       "    </tr>\n",
       "    <tr>\n",
       "      <th>3</th>\n",
       "      <td>int</td>\n",
       "      <td>13.893784</td>\n",
       "      <td>Cocoa</td>\n",
       "      <td>10</td>\n",
       "    </tr>\n",
       "    <tr>\n",
       "      <th>4</th>\n",
       "      <td>banner</td>\n",
       "      <td>6.827570</td>\n",
       "      <td>NaN</td>\n",
       "      <td>10</td>\n",
       "    </tr>\n",
       "    <tr>\n",
       "      <th>...</th>\n",
       "      <td>...</td>\n",
       "      <td>...</td>\n",
       "      <td>...</td>\n",
       "      <td>...</td>\n",
       "    </tr>\n",
       "    <tr>\n",
       "      <th>860074</th>\n",
       "      <td>banner</td>\n",
       "      <td>0.019972</td>\n",
       "      <td>Elmira</td>\n",
       "      <td>12</td>\n",
       "    </tr>\n",
       "    <tr>\n",
       "      <th>860075</th>\n",
       "      <td>banner</td>\n",
       "      <td>6.740355</td>\n",
       "      <td>Cherry Hill</td>\n",
       "      <td>12</td>\n",
       "    </tr>\n",
       "    <tr>\n",
       "      <th>860076</th>\n",
       "      <td>banner</td>\n",
       "      <td>2.780058</td>\n",
       "      <td>Cherry Hill</td>\n",
       "      <td>12</td>\n",
       "    </tr>\n",
       "    <tr>\n",
       "      <th>860077</th>\n",
       "      <td>banner</td>\n",
       "      <td>2.780058</td>\n",
       "      <td>Cherry Hill</td>\n",
       "      <td>12</td>\n",
       "    </tr>\n",
       "    <tr>\n",
       "      <th>860078</th>\n",
       "      <td>banner</td>\n",
       "      <td>2.780058</td>\n",
       "      <td>Cherry Hill</td>\n",
       "      <td>12</td>\n",
       "    </tr>\n",
       "  </tbody>\n",
       "</table>\n",
       "<p>860079 rows × 4 columns</p>\n",
       "</div>"
      ],
      "text/plain": [
       "       ad_type       eCPM         city os_version\n",
       "0       banner   0.510313      Norwalk         11\n",
       "1       banner   0.510313      Norwalk         11\n",
       "2       banner   2.386163    Charlotte         11\n",
       "3          int  13.893784        Cocoa         10\n",
       "4       banner   6.827570          NaN         10\n",
       "...        ...        ...          ...        ...\n",
       "860074  banner   0.019972       Elmira         12\n",
       "860075  banner   6.740355  Cherry Hill         12\n",
       "860076  banner   2.780058  Cherry Hill         12\n",
       "860077  banner   2.780058  Cherry Hill         12\n",
       "860078  banner   2.780058  Cherry Hill         12\n",
       "\n",
       "[860079 rows x 4 columns]"
      ]
     },
     "execution_count": 17,
     "metadata": {},
     "output_type": "execute_result"
    }
   ],
   "source": [
    "df[['ad_type', 'eCPM', 'city', 'os_version']]"
   ]
  },
  {
   "cell_type": "code",
   "execution_count": 18,
   "metadata": {},
   "outputs": [
    {
     "data": {
      "image/png": "[encoded data removed]",
      "text/plain": [
       "<Figure size 1080x360 with 3 Axes>"
      ]
     },
     "metadata": {
      "needs_background": "light"
     },
     "output_type": "display_data"
    }
   ],
   "source": [
    "plt.figure(figsize=(15,5))\n",
    "\n",
    "plt.subplot(1, 3, 1)\n",
    "plt.hist(df.groupby(['ad_type', 'city'], as_index=False).agg({'eCPM': 'mean'}) \\\n",
    "  .query('ad_type == \"banner\"').eCPM, bins = 50)\n",
    "plt.xlabel('eCPM')\n",
    "plt.title(\"для формата рекламы banner\")\n",
    "\n",
    "plt.subplot(1, 3, 2)\n",
    "plt.hist(df.groupby(['ad_type', 'city'], as_index=False).agg({'eCPM': 'mean'}) \\\n",
    "  .query('ad_type == \"int\"').eCPM, bins = 50)\n",
    "plt.xlabel('eCPM')\n",
    "plt.title(\"для формата рекламы int\")\n",
    "\n",
    "plt.subplot(1, 3, 3)\n",
    "plt.hist(df.groupby(['ad_type', 'city'], as_index=False).agg({'eCPM': 'mean'}) \\\n",
    "  .query('ad_type == \"rv\"').eCPM, bins = 50)\n",
    "plt.xlabel('eCPM')\n",
    "plt.title(\"для формата рекламы rv\")\n",
    "\n",
    "plt.suptitle(\"Распределение средних eCPM-ов по городам\", size = 15, y = 1)\n",
    "\n",
    "plt.show()"
   ]
  },
  {
   "cell_type": "code",
   "execution_count": 61,
   "metadata": {},
   "outputs": [
    {
     "data": {
      "image/png": "[encoded data removed]",
      "text/plain": [
       "<Figure size 1080x720 with 3 Axes>"
      ]
     },
     "metadata": {
      "needs_background": "light"
     },
     "output_type": "display_data"
    }
   ],
   "source": [
    "plt.figure(figsize=(15, 10))\n",
    "\n",
    "plt.subplot(1, 3, 1)\n",
    "sns.boxplot(y = df.groupby(['ad_type', 'city'], as_index=False).agg({'eCPM': 'mean'}).query('ad_type == \"banner\"').eCPM).set(ylabel=None)\n",
    "plt.title(\"для формата рекламы banner\")\n",
    "\n",
    "plt.subplot(1, 3, 2)\n",
    "sns.boxplot(y = df.groupby(['ad_type', 'city'], as_index=False).agg({'eCPM': 'mean'}).query('ad_type == \"int\"').eCPM).set(ylabel=None)\n",
    "plt.title(\"для формата рекламы int\")\n",
    "\n",
    "plt.subplot(1, 3, 3)\n",
    "sns.boxplot(y = df.groupby(['ad_type', 'city'], as_index=False).agg({'eCPM': 'mean'}).query('ad_type == \"rv\"').eCPM).set(ylabel=None)\n",
    "plt.title(\"для формата рекламы rv\")\n",
    "\n",
    "plt.suptitle(\"Распределение средних eCPM-ов  по городам\", size = 15)\n",
    "plt.show()"
   ]
  },
  {
   "cell_type": "markdown",
   "metadata": {},
   "source": [
    "Можно заметить, что данные распределены ненормально, попробуем прологарифмировать значения для дальнейшего рассмотрения."
   ]
  },
  {
   "cell_type": "code",
   "execution_count": 30,
   "metadata": {},
   "outputs": [
    {
     "data": {
      "image/png": "[encoded data removed]",
      "text/plain": [
       "<Figure size 1080x360 with 3 Axes>"
      ]
     },
     "metadata": {
      "needs_background": "light"
     },
     "output_type": "display_data"
    }
   ],
   "source": [
    "plt.figure(figsize=(15,5))\n",
    "plt.subplot(1, 3, 1)\n",
    "plt.hist(np.log(df.groupby(['ad_type', 'city'], as_index=False).agg({'eCPM': 'mean'}).query('ad_type==\"banner\"').eCPM), bins = 50)\n",
    "plt.title(\"для формата рекламы banner\")\n",
    "plt.subplot(1, 3, 2)\n",
    "plt.hist(np.log(df.groupby(['ad_type', 'city'], as_index=False).agg({'eCPM': 'mean'}).query('ad_type==\"int\"').eCPM), bins = 50)\n",
    "plt.title(\"для формата рекламы int\")\n",
    "plt.subplot(1, 3, 3)\n",
    "plt.hist(np.log(df.groupby(['ad_type', 'city'], as_index=False).agg({'eCPM': 'mean'}).query('ad_type==\"rv\"').eCPM), bins = 50)\n",
    "plt.title(\"для формата рекламы rv\")\n",
    "plt.suptitle(\"Распределение прологарифмированных значений средних eCPM-ов по городам \", size = 15, y = 1)\n",
    "plt.show()"
   ]
  },
  {
   "cell_type": "code",
   "execution_count": 36,
   "metadata": {},
   "outputs": [],
   "source": [
    "a = np.log(df.groupby(['ad_type', 'city'], as_index=False).agg({'eCPM': 'mean'}).query('ad_type==\"banner\"').eCPM)\n",
    "b = np.log(df.groupby(['ad_type', 'city'], as_index=False).agg({'eCPM': 'mean'}).query('ad_type==\"int\"').eCPM)\n",
    "c = np.log(df.groupby(['ad_type', 'city'], as_index=False).agg({'eCPM': 'mean'}).query('ad_type==\"rv\"').eCPM)"
   ]
  },
  {
   "cell_type": "markdown",
   "metadata": {},
   "source": [
    "Посмотрим, распределены ли данные нормально, применив тест Шапиро-Уилка. Перед применением критерия при проверке на нормальность делаем семплирование (1000 наблюдений), так как на больших выборках могут получаться неверные результаты. Для воспроизводимости результата использован параметр random_state=17 в методе sample."
   ]
  },
  {
   "cell_type": "code",
   "execution_count": 40,
   "metadata": {},
   "outputs": [
    {
     "data": {
      "text/plain": [
       "ShapiroResult(statistic=0.9887214303016663, pvalue=5.909593028263771e-07)"
      ]
     },
     "execution_count": 40,
     "metadata": {},
     "output_type": "execute_result"
    }
   ],
   "source": [
    "scipy.stats.shapiro(a.sample(1000, random_state=17, replace=True))"
   ]
  },
  {
   "cell_type": "code",
   "execution_count": 41,
   "metadata": {},
   "outputs": [
    {
     "data": {
      "text/plain": [
       "ShapiroResult(statistic=0.9896131753921509, pvalue=1.6225206991293817e-06)"
      ]
     },
     "execution_count": 41,
     "metadata": {},
     "output_type": "execute_result"
    }
   ],
   "source": [
    "scipy.stats.shapiro(b.sample(1000, random_state=17, replace=True))"
   ]
  },
  {
   "cell_type": "code",
   "execution_count": 42,
   "metadata": {},
   "outputs": [
    {
     "data": {
      "text/plain": [
       "ShapiroResult(statistic=0.9794691205024719, pvalue=1.1334519434136325e-10)"
      ]
     },
     "execution_count": 42,
     "metadata": {},
     "output_type": "execute_result"
    }
   ],
   "source": [
    "scipy.stats.shapiro(c.sample(1000, random_state=17, replace=True))"
   ]
  },
  {
   "cell_type": "markdown",
   "metadata": {},
   "source": [
    "Тест Шапиро_Уилка говорит нам о том, что данные распределены ненормально, возможно это связано с тем, что выборки большие. Посмотрим на результаты normaltest. Этот статтест специально создавался для проверки нормальности на больших выборках, и поэтому у него отсутствуют недостатки Шапиро-Уилка."
   ]
  },
  {
   "cell_type": "code",
   "execution_count": 43,
   "metadata": {},
   "outputs": [
    {
     "data": {
      "text/plain": [
       "NormaltestResult(statistic=5.219662534120454, pvalue=0.0735469525096538)"
      ]
     },
     "execution_count": 43,
     "metadata": {},
     "output_type": "execute_result"
    }
   ],
   "source": [
    "scipy.stats.normaltest(a)"
   ]
  },
  {
   "cell_type": "code",
   "execution_count": 44,
   "metadata": {},
   "outputs": [
    {
     "data": {
      "text/plain": [
       "NormaltestResult(statistic=9.757181696912905, pvalue=0.007607726917891117)"
      ]
     },
     "execution_count": 44,
     "metadata": {},
     "output_type": "execute_result"
    }
   ],
   "source": [
    "scipy.stats.normaltest(b)"
   ]
  },
  {
   "cell_type": "code",
   "execution_count": 45,
   "metadata": {},
   "outputs": [
    {
     "data": {
      "text/plain": [
       "NormaltestResult(statistic=0.3763545655520425, pvalue=0.8284678211377025)"
      ]
     },
     "execution_count": 45,
     "metadata": {},
     "output_type": "execute_result"
    }
   ],
   "source": [
    "scipy.stats.normaltest(c)"
   ]
  },
  {
   "cell_type": "markdown",
   "metadata": {},
   "source": [
    "normaltest показывает, что выборки пролагорифмированных значений для форматов рекламы banner и rv распределены нормально, в оличии от данных для формата int."
   ]
  },
  {
   "cell_type": "markdown",
   "metadata": {},
   "source": [
    "Логарифмирование выборок не помогло привести распределение к нормальному виду. Поэтому попробуем применить непараметрический тест - Критерий Крускала-Уоллиса на первоначальных данных. Он проверяет нулевую гипотезу о том, что медианы совокупности всех групп равны. Это непараметрическая версия ANOVA. "
   ]
  },
  {
   "cell_type": "code",
   "execution_count": 49,
   "metadata": {},
   "outputs": [],
   "source": [
    "d = df.groupby(['ad_type', 'city'], as_index=False).agg({'eCPM': 'mean'}).query('ad_type == \"banner\"').eCPM\n",
    "e = df.groupby(['ad_type', 'city'], as_index=False).agg({'eCPM': 'mean'}).query('ad_type == \"int\"').eCPM\n",
    "f = df.groupby(['ad_type', 'city'], as_index=False).agg({'eCPM': 'mean'}).query('ad_type == \"rv\"').eCPM"
   ]
  },
  {
   "cell_type": "code",
   "execution_count": 50,
   "metadata": {},
   "outputs": [
    {
     "data": {
      "text/plain": [
       "KruskalResult(statistic=1602.7238945504341, pvalue=0.0)"
      ]
     },
     "execution_count": 50,
     "metadata": {},
     "output_type": "execute_result"
    }
   ],
   "source": [
    "scipy.stats.kruskal(d, e, f)"
   ]
  },
  {
   "cell_type": "markdown",
   "metadata": {},
   "source": [
    "Отклоняем нулевую гипотезу, медианные значения сравниваемых групп значительно различаются."
   ]
  },
  {
   "cell_type": "code",
   "execution_count": 62,
   "metadata": {},
   "outputs": [
    {
     "data": {
      "text/html": [
       "<div>\n",
       "<style scoped>\n",
       "    .dataframe tbody tr th:only-of-type {\n",
       "        vertical-align: middle;\n",
       "    }\n",
       "\n",
       "    .dataframe tbody tr th {\n",
       "        vertical-align: top;\n",
       "    }\n",
       "\n",
       "    .dataframe thead th {\n",
       "        text-align: right;\n",
       "    }\n",
       "</style>\n",
       "<table border=\"1\" class=\"dataframe\">\n",
       "  <thead>\n",
       "    <tr style=\"text-align: right;\">\n",
       "      <th></th>\n",
       "      <th>eCPM</th>\n",
       "    </tr>\n",
       "  </thead>\n",
       "  <tbody>\n",
       "    <tr>\n",
       "      <th>count</th>\n",
       "      <td>856.000000</td>\n",
       "    </tr>\n",
       "    <tr>\n",
       "      <th>mean</th>\n",
       "      <td>1.026122</td>\n",
       "    </tr>\n",
       "    <tr>\n",
       "      <th>std</th>\n",
       "      <td>1.439121</td>\n",
       "    </tr>\n",
       "    <tr>\n",
       "      <th>min</th>\n",
       "      <td>0.029317</td>\n",
       "    </tr>\n",
       "    <tr>\n",
       "      <th>25%</th>\n",
       "      <td>0.342273</td>\n",
       "    </tr>\n",
       "    <tr>\n",
       "      <th>50%</th>\n",
       "      <td>0.568364</td>\n",
       "    </tr>\n",
       "    <tr>\n",
       "      <th>75%</th>\n",
       "      <td>1.088064</td>\n",
       "    </tr>\n",
       "    <tr>\n",
       "      <th>max</th>\n",
       "      <td>19.326435</td>\n",
       "    </tr>\n",
       "  </tbody>\n",
       "</table>\n",
       "</div>"
      ],
      "text/plain": [
       "             eCPM\n",
       "count  856.000000\n",
       "mean     1.026122\n",
       "std      1.439121\n",
       "min      0.029317\n",
       "25%      0.342273\n",
       "50%      0.568364\n",
       "75%      1.088064\n",
       "max     19.326435"
      ]
     },
     "execution_count": 62,
     "metadata": {},
     "output_type": "execute_result"
    }
   ],
   "source": [
    "df.groupby(['ad_type', 'city'], as_index=False).agg({'eCPM': 'mean'}).query('ad_type == \"banner\"').describe()"
   ]
  },
  {
   "cell_type": "code",
   "execution_count": 63,
   "metadata": {},
   "outputs": [
    {
     "data": {
      "text/html": [
       "<div>\n",
       "<style scoped>\n",
       "    .dataframe tbody tr th:only-of-type {\n",
       "        vertical-align: middle;\n",
       "    }\n",
       "\n",
       "    .dataframe tbody tr th {\n",
       "        vertical-align: top;\n",
       "    }\n",
       "\n",
       "    .dataframe thead th {\n",
       "        text-align: right;\n",
       "    }\n",
       "</style>\n",
       "<table border=\"1\" class=\"dataframe\">\n",
       "  <thead>\n",
       "    <tr style=\"text-align: right;\">\n",
       "      <th></th>\n",
       "      <th>eCPM</th>\n",
       "    </tr>\n",
       "  </thead>\n",
       "  <tbody>\n",
       "    <tr>\n",
       "      <th>count</th>\n",
       "      <td>869.000000</td>\n",
       "    </tr>\n",
       "    <tr>\n",
       "      <th>mean</th>\n",
       "      <td>44.829423</td>\n",
       "    </tr>\n",
       "    <tr>\n",
       "      <th>std</th>\n",
       "      <td>44.671766</td>\n",
       "    </tr>\n",
       "    <tr>\n",
       "      <th>min</th>\n",
       "      <td>2.750576</td>\n",
       "    </tr>\n",
       "    <tr>\n",
       "      <th>25%</th>\n",
       "      <td>19.411409</td>\n",
       "    </tr>\n",
       "    <tr>\n",
       "      <th>50%</th>\n",
       "      <td>31.001778</td>\n",
       "    </tr>\n",
       "    <tr>\n",
       "      <th>75%</th>\n",
       "      <td>52.142344</td>\n",
       "    </tr>\n",
       "    <tr>\n",
       "      <th>max</th>\n",
       "      <td>437.039882</td>\n",
       "    </tr>\n",
       "  </tbody>\n",
       "</table>\n",
       "</div>"
      ],
      "text/plain": [
       "             eCPM\n",
       "count  869.000000\n",
       "mean    44.829423\n",
       "std     44.671766\n",
       "min      2.750576\n",
       "25%     19.411409\n",
       "50%     31.001778\n",
       "75%     52.142344\n",
       "max    437.039882"
      ]
     },
     "execution_count": 63,
     "metadata": {},
     "output_type": "execute_result"
    }
   ],
   "source": [
    "df.groupby(['ad_type', 'city'], as_index=False).agg({'eCPM': 'mean'}).query('ad_type == \"int\"').describe()"
   ]
  },
  {
   "cell_type": "code",
   "execution_count": 64,
   "metadata": {
    "scrolled": true
   },
   "outputs": [
    {
     "data": {
      "text/html": [
       "<div>\n",
       "<style scoped>\n",
       "    .dataframe tbody tr th:only-of-type {\n",
       "        vertical-align: middle;\n",
       "    }\n",
       "\n",
       "    .dataframe tbody tr th {\n",
       "        vertical-align: top;\n",
       "    }\n",
       "\n",
       "    .dataframe thead th {\n",
       "        text-align: right;\n",
       "    }\n",
       "</style>\n",
       "<table border=\"1\" class=\"dataframe\">\n",
       "  <thead>\n",
       "    <tr style=\"text-align: right;\">\n",
       "      <th></th>\n",
       "      <th>eCPM</th>\n",
       "    </tr>\n",
       "  </thead>\n",
       "  <tbody>\n",
       "    <tr>\n",
       "      <th>count</th>\n",
       "      <td>454.000000</td>\n",
       "    </tr>\n",
       "    <tr>\n",
       "      <th>mean</th>\n",
       "      <td>80.532356</td>\n",
       "    </tr>\n",
       "    <tr>\n",
       "      <th>std</th>\n",
       "      <td>76.601650</td>\n",
       "    </tr>\n",
       "    <tr>\n",
       "      <th>min</th>\n",
       "      <td>3.339551</td>\n",
       "    </tr>\n",
       "    <tr>\n",
       "      <th>25%</th>\n",
       "      <td>28.240000</td>\n",
       "    </tr>\n",
       "    <tr>\n",
       "      <th>50%</th>\n",
       "      <td>55.959567</td>\n",
       "    </tr>\n",
       "    <tr>\n",
       "      <th>75%</th>\n",
       "      <td>104.940871</td>\n",
       "    </tr>\n",
       "    <tr>\n",
       "      <th>max</th>\n",
       "      <td>808.294820</td>\n",
       "    </tr>\n",
       "  </tbody>\n",
       "</table>\n",
       "</div>"
      ],
      "text/plain": [
       "             eCPM\n",
       "count  454.000000\n",
       "mean    80.532356\n",
       "std     76.601650\n",
       "min      3.339551\n",
       "25%     28.240000\n",
       "50%     55.959567\n",
       "75%    104.940871\n",
       "max    808.294820"
      ]
     },
     "execution_count": 64,
     "metadata": {},
     "output_type": "execute_result"
    }
   ],
   "source": [
    "df.groupby(['ad_type', 'city'], as_index=False).agg({'eCPM': 'mean'}).query('ad_type == \"rv\"').describe()"
   ]
  },
  {
   "cell_type": "markdown",
   "metadata": {},
   "source": [
    "Усредненный городской пользователь приносит eCPM от баннерной рекламы в диапазоне от 0,34 до 1,09 долларов, от полноэкранной рекламы - от 19,41 до 52,14 долларов, от видео - от 28,24 до 104,94 долларов. Минимальный полученный доход от banner - 0,03 доллара, от int - 2,75 долларов и от rv - 3,34 доллара. От рекламы вида - banner максимально было получено всего лишь 19,33 доллара, а от int и rv - 437,04 и 808,29 долларов соответственно."
   ]
  },
  {
   "cell_type": "markdown",
   "metadata": {},
   "source": [
    "# Cредние eCPM-ы по городам, версиям ОС"
   ]
  },
  {
   "cell_type": "code",
   "execution_count": 22,
   "metadata": {},
   "outputs": [
    {
     "name": "stdout",
     "output_type": "stream",
     "text": [
      "В данных 920 уникальных городов и 11 версий ОС\n"
     ]
    }
   ],
   "source": [
    "print(f'В данных {df[\"city\"].nunique()} уникальных городов и {df[\"os_version\"].nunique()} версий ОС')"
   ]
  },
  {
   "cell_type": "markdown",
   "metadata": {},
   "source": [
    "### Рассмотрим средние eCPM-ы для каждого типа рекламы по городам:\n",
    "#### Для горизонтального баннера"
   ]
  },
  {
   "cell_type": "code",
   "execution_count": 23,
   "metadata": {
    "id": "e5qdf_CMxrik"
   },
   "outputs": [],
   "source": [
    "eCPM_city_banner = df.groupby(['city', 'ad_type'], as_index=False).agg({'eCPM': 'mean'}).query('ad_type==\"banner\"')\n",
    "eCPM_city_int = df.groupby(['city', 'ad_type'], as_index=False).agg({'eCPM': 'mean'}).query('ad_type==\"int\"')\n",
    "eCPM_city_rv = df.groupby(['city', 'ad_type'], as_index=False).agg({'eCPM': 'mean'}).query('ad_type==\"rv\"')"
   ]
  },
  {
   "cell_type": "code",
   "execution_count": 24,
   "metadata": {},
   "outputs": [
    {
     "data": {
      "text/html": [
       "<div>\n",
       "<style scoped>\n",
       "    .dataframe tbody tr th:only-of-type {\n",
       "        vertical-align: middle;\n",
       "    }\n",
       "\n",
       "    .dataframe tbody tr th {\n",
       "        vertical-align: top;\n",
       "    }\n",
       "\n",
       "    .dataframe thead th {\n",
       "        text-align: right;\n",
       "    }\n",
       "</style>\n",
       "<table border=\"1\" class=\"dataframe\">\n",
       "  <thead>\n",
       "    <tr style=\"text-align: right;\">\n",
       "      <th></th>\n",
       "      <th>city</th>\n",
       "      <th>ad_type</th>\n",
       "      <th>eCPM</th>\n",
       "    </tr>\n",
       "  </thead>\n",
       "  <tbody>\n",
       "    <tr>\n",
       "      <th>280</th>\n",
       "      <td>Canonsburg</td>\n",
       "      <td>banner</td>\n",
       "      <td>0.029317</td>\n",
       "    </tr>\n",
       "    <tr>\n",
       "      <th>46</th>\n",
       "      <td>Anderson</td>\n",
       "      <td>banner</td>\n",
       "      <td>0.030573</td>\n",
       "    </tr>\n",
       "    <tr>\n",
       "      <th>1173</th>\n",
       "      <td>Malden</td>\n",
       "      <td>banner</td>\n",
       "      <td>0.037929</td>\n",
       "    </tr>\n",
       "    <tr>\n",
       "      <th>2036</th>\n",
       "      <td>Vista</td>\n",
       "      <td>banner</td>\n",
       "      <td>0.040451</td>\n",
       "    </tr>\n",
       "    <tr>\n",
       "      <th>146</th>\n",
       "      <td>Bell Gardens</td>\n",
       "      <td>banner</td>\n",
       "      <td>0.040858</td>\n",
       "    </tr>\n",
       "    <tr>\n",
       "      <th>...</th>\n",
       "      <td>...</td>\n",
       "      <td>...</td>\n",
       "      <td>...</td>\n",
       "    </tr>\n",
       "    <tr>\n",
       "      <th>1072</th>\n",
       "      <td>Lawrenceville</td>\n",
       "      <td>banner</td>\n",
       "      <td>7.519341</td>\n",
       "    </tr>\n",
       "    <tr>\n",
       "      <th>1522</th>\n",
       "      <td>Oxnard</td>\n",
       "      <td>banner</td>\n",
       "      <td>7.519341</td>\n",
       "    </tr>\n",
       "    <tr>\n",
       "      <th>908</th>\n",
       "      <td>Huron</td>\n",
       "      <td>banner</td>\n",
       "      <td>7.574941</td>\n",
       "    </tr>\n",
       "    <tr>\n",
       "      <th>1339</th>\n",
       "      <td>Mountain View</td>\n",
       "      <td>banner</td>\n",
       "      <td>12.750000</td>\n",
       "    </tr>\n",
       "    <tr>\n",
       "      <th>1029</th>\n",
       "      <td>La Crosse</td>\n",
       "      <td>banner</td>\n",
       "      <td>19.326435</td>\n",
       "    </tr>\n",
       "  </tbody>\n",
       "</table>\n",
       "<p>856 rows × 3 columns</p>\n",
       "</div>"
      ],
      "text/plain": [
       "               city ad_type       eCPM\n",
       "280      Canonsburg  banner   0.029317\n",
       "46         Anderson  banner   0.030573\n",
       "1173         Malden  banner   0.037929\n",
       "2036          Vista  banner   0.040451\n",
       "146    Bell Gardens  banner   0.040858\n",
       "...             ...     ...        ...\n",
       "1072  Lawrenceville  banner   7.519341\n",
       "1522         Oxnard  banner   7.519341\n",
       "908           Huron  banner   7.574941\n",
       "1339  Mountain View  banner  12.750000\n",
       "1029      La Crosse  banner  19.326435\n",
       "\n",
       "[856 rows x 3 columns]"
      ]
     },
     "execution_count": 24,
     "metadata": {},
     "output_type": "execute_result"
    }
   ],
   "source": [
    "eCPM_city_banner.sort_values('eCPM')\n",
    "# средние eCPM-ы в диапазоне от 0.029317 до 19.326435\n",
    "# округлим до одного знака после запятой для группировки городов по eCPM"
   ]
  },
  {
   "cell_type": "code",
   "execution_count": 25,
   "metadata": {},
   "outputs": [],
   "source": [
    "eCPM_city_banner.eCPM = eCPM_city_banner.eCPM.round(1)"
   ]
  },
  {
   "cell_type": "code",
   "execution_count": 26,
   "metadata": {},
   "outputs": [
    {
     "data": {
      "text/html": [
       "<div>\n",
       "<style scoped>\n",
       "    .dataframe tbody tr th:only-of-type {\n",
       "        vertical-align: middle;\n",
       "    }\n",
       "\n",
       "    .dataframe tbody tr th {\n",
       "        vertical-align: top;\n",
       "    }\n",
       "\n",
       "    .dataframe thead th {\n",
       "        text-align: right;\n",
       "    }\n",
       "</style>\n",
       "<table border=\"1\" class=\"dataframe\">\n",
       "  <thead>\n",
       "    <tr style=\"text-align: right;\">\n",
       "      <th></th>\n",
       "      <th>city</th>\n",
       "      <th>ad_type</th>\n",
       "      <th>eCPM</th>\n",
       "    </tr>\n",
       "  </thead>\n",
       "  <tbody>\n",
       "    <tr>\n",
       "      <th>0</th>\n",
       "      <td>Aberdeen</td>\n",
       "      <td>banner</td>\n",
       "      <td>0.3</td>\n",
       "    </tr>\n",
       "    <tr>\n",
       "      <th>3</th>\n",
       "      <td>Abilene</td>\n",
       "      <td>banner</td>\n",
       "      <td>0.9</td>\n",
       "    </tr>\n",
       "    <tr>\n",
       "      <th>6</th>\n",
       "      <td>Addison</td>\n",
       "      <td>banner</td>\n",
       "      <td>0.1</td>\n",
       "    </tr>\n",
       "    <tr>\n",
       "      <th>7</th>\n",
       "      <td>Afton</td>\n",
       "      <td>banner</td>\n",
       "      <td>0.3</td>\n",
       "    </tr>\n",
       "    <tr>\n",
       "      <th>9</th>\n",
       "      <td>Akron</td>\n",
       "      <td>banner</td>\n",
       "      <td>0.4</td>\n",
       "    </tr>\n",
       "    <tr>\n",
       "      <th>...</th>\n",
       "      <td>...</td>\n",
       "      <td>...</td>\n",
       "      <td>...</td>\n",
       "    </tr>\n",
       "    <tr>\n",
       "      <th>2165</th>\n",
       "      <td>Youngstown</td>\n",
       "      <td>banner</td>\n",
       "      <td>1.5</td>\n",
       "    </tr>\n",
       "    <tr>\n",
       "      <th>2168</th>\n",
       "      <td>Ypsilanti</td>\n",
       "      <td>banner</td>\n",
       "      <td>0.3</td>\n",
       "    </tr>\n",
       "    <tr>\n",
       "      <th>2171</th>\n",
       "      <td>Yukon</td>\n",
       "      <td>banner</td>\n",
       "      <td>0.1</td>\n",
       "    </tr>\n",
       "    <tr>\n",
       "      <th>2174</th>\n",
       "      <td>Yuma</td>\n",
       "      <td>banner</td>\n",
       "      <td>0.2</td>\n",
       "    </tr>\n",
       "    <tr>\n",
       "      <th>2176</th>\n",
       "      <td>Zanesville</td>\n",
       "      <td>banner</td>\n",
       "      <td>0.2</td>\n",
       "    </tr>\n",
       "  </tbody>\n",
       "</table>\n",
       "<p>856 rows × 3 columns</p>\n",
       "</div>"
      ],
      "text/plain": [
       "            city ad_type  eCPM\n",
       "0       Aberdeen  banner   0.3\n",
       "3        Abilene  banner   0.9\n",
       "6        Addison  banner   0.1\n",
       "7          Afton  banner   0.3\n",
       "9          Akron  banner   0.4\n",
       "...          ...     ...   ...\n",
       "2165  Youngstown  banner   1.5\n",
       "2168   Ypsilanti  banner   0.3\n",
       "2171       Yukon  banner   0.1\n",
       "2174        Yuma  banner   0.2\n",
       "2176  Zanesville  banner   0.2\n",
       "\n",
       "[856 rows x 3 columns]"
      ]
     },
     "execution_count": 26,
     "metadata": {},
     "output_type": "execute_result"
    }
   ],
   "source": [
    "eCPM_city_banner"
   ]
  },
  {
   "cell_type": "code",
   "execution_count": 27,
   "metadata": {},
   "outputs": [],
   "source": [
    "pd.set_option('display.max_colwidth', None)"
   ]
  },
  {
   "cell_type": "code",
   "execution_count": 28,
   "metadata": {},
   "outputs": [],
   "source": [
    "eCPM_city_banner = eCPM_city_banner.groupby('eCPM', as_index=False).agg({'city': [set, 'count']}) \\\n",
    ".sort_values('eCPM', ascending=False).head(10)\n",
    "# возьмем топ-10"
   ]
  },
  {
   "cell_type": "code",
   "execution_count": 29,
   "metadata": {},
   "outputs": [
    {
     "data": {
      "text/html": [
       "<div>\n",
       "<style scoped>\n",
       "    .dataframe tbody tr th:only-of-type {\n",
       "        vertical-align: middle;\n",
       "    }\n",
       "\n",
       "    .dataframe tbody tr th {\n",
       "        vertical-align: top;\n",
       "    }\n",
       "\n",
       "    .dataframe thead tr th {\n",
       "        text-align: left;\n",
       "    }\n",
       "</style>\n",
       "<table border=\"1\" class=\"dataframe\">\n",
       "  <thead>\n",
       "    <tr>\n",
       "      <th></th>\n",
       "      <th>eCPM</th>\n",
       "      <th colspan=\"2\" halign=\"left\">city</th>\n",
       "    </tr>\n",
       "    <tr>\n",
       "      <th></th>\n",
       "      <th></th>\n",
       "      <th>set</th>\n",
       "      <th>count</th>\n",
       "    </tr>\n",
       "  </thead>\n",
       "  <tbody>\n",
       "    <tr>\n",
       "      <th>59</th>\n",
       "      <td>19.3</td>\n",
       "      <td>{La Crosse}</td>\n",
       "      <td>1</td>\n",
       "    </tr>\n",
       "    <tr>\n",
       "      <th>58</th>\n",
       "      <td>12.8</td>\n",
       "      <td>{Mountain View}</td>\n",
       "      <td>1</td>\n",
       "    </tr>\n",
       "    <tr>\n",
       "      <th>57</th>\n",
       "      <td>7.6</td>\n",
       "      <td>{Huron}</td>\n",
       "      <td>1</td>\n",
       "    </tr>\n",
       "    <tr>\n",
       "      <th>56</th>\n",
       "      <td>7.5</td>\n",
       "      <td>{Lawrenceville, Oxnard}</td>\n",
       "      <td>2</td>\n",
       "    </tr>\n",
       "    <tr>\n",
       "      <th>55</th>\n",
       "      <td>7.3</td>\n",
       "      <td>{Corbin, Clarks Summit, Colchester}</td>\n",
       "      <td>3</td>\n",
       "    </tr>\n",
       "    <tr>\n",
       "      <th>54</th>\n",
       "      <td>7.0</td>\n",
       "      <td>{Dobson}</td>\n",
       "      <td>1</td>\n",
       "    </tr>\n",
       "    <tr>\n",
       "      <th>53</th>\n",
       "      <td>6.9</td>\n",
       "      <td>{Muncie}</td>\n",
       "      <td>1</td>\n",
       "    </tr>\n",
       "    <tr>\n",
       "      <th>52</th>\n",
       "      <td>6.8</td>\n",
       "      <td>{Powell, Post Falls, Gloucester City, Gardena, Orland Park}</td>\n",
       "      <td>5</td>\n",
       "    </tr>\n",
       "    <tr>\n",
       "      <th>51</th>\n",
       "      <td>6.5</td>\n",
       "      <td>{Brockton}</td>\n",
       "      <td>1</td>\n",
       "    </tr>\n",
       "    <tr>\n",
       "      <th>50</th>\n",
       "      <td>6.4</td>\n",
       "      <td>{Kennesaw}</td>\n",
       "      <td>1</td>\n",
       "    </tr>\n",
       "  </tbody>\n",
       "</table>\n",
       "</div>"
      ],
      "text/plain": [
       "    eCPM                                                         city      \n",
       "                                                                  set count\n",
       "59  19.3                                                  {La Crosse}     1\n",
       "58  12.8                                              {Mountain View}     1\n",
       "57   7.6                                                      {Huron}     1\n",
       "56   7.5                                      {Lawrenceville, Oxnard}     2\n",
       "55   7.3                          {Corbin, Clarks Summit, Colchester}     3\n",
       "54   7.0                                                     {Dobson}     1\n",
       "53   6.9                                                     {Muncie}     1\n",
       "52   6.8  {Powell, Post Falls, Gloucester City, Gardena, Orland Park}     5\n",
       "51   6.5                                                   {Brockton}     1\n",
       "50   6.4                                                   {Kennesaw}     1"
      ]
     },
     "execution_count": 29,
     "metadata": {},
     "output_type": "execute_result"
    }
   ],
   "source": [
    "eCPM_city_banner"
   ]
  },
  {
   "cell_type": "code",
   "execution_count": 30,
   "metadata": {},
   "outputs": [],
   "source": [
    "eCPM_city_banner.columns = eCPM_city_banner.columns.map(''.join)\n",
    "eCPM_city_banner = eCPM_city_banner.rename(columns=({'cityset': 'city', 'citycount': 'count_city'}))"
   ]
  },
  {
   "cell_type": "code",
   "execution_count": 31,
   "metadata": {},
   "outputs": [
    {
     "data": {
      "text/html": [
       "<div>\n",
       "<style scoped>\n",
       "    .dataframe tbody tr th:only-of-type {\n",
       "        vertical-align: middle;\n",
       "    }\n",
       "\n",
       "    .dataframe tbody tr th {\n",
       "        vertical-align: top;\n",
       "    }\n",
       "\n",
       "    .dataframe thead th {\n",
       "        text-align: right;\n",
       "    }\n",
       "</style>\n",
       "<table border=\"1\" class=\"dataframe\">\n",
       "  <thead>\n",
       "    <tr style=\"text-align: right;\">\n",
       "      <th></th>\n",
       "      <th>eCPM</th>\n",
       "      <th>city</th>\n",
       "      <th>count_city</th>\n",
       "    </tr>\n",
       "  </thead>\n",
       "  <tbody>\n",
       "    <tr>\n",
       "      <th>59</th>\n",
       "      <td>19.3</td>\n",
       "      <td>{La Crosse}</td>\n",
       "      <td>1</td>\n",
       "    </tr>\n",
       "    <tr>\n",
       "      <th>58</th>\n",
       "      <td>12.8</td>\n",
       "      <td>{Mountain View}</td>\n",
       "      <td>1</td>\n",
       "    </tr>\n",
       "    <tr>\n",
       "      <th>57</th>\n",
       "      <td>7.6</td>\n",
       "      <td>{Huron}</td>\n",
       "      <td>1</td>\n",
       "    </tr>\n",
       "    <tr>\n",
       "      <th>56</th>\n",
       "      <td>7.5</td>\n",
       "      <td>{Lawrenceville, Oxnard}</td>\n",
       "      <td>2</td>\n",
       "    </tr>\n",
       "    <tr>\n",
       "      <th>55</th>\n",
       "      <td>7.3</td>\n",
       "      <td>{Corbin, Clarks Summit, Colchester}</td>\n",
       "      <td>3</td>\n",
       "    </tr>\n",
       "    <tr>\n",
       "      <th>54</th>\n",
       "      <td>7.0</td>\n",
       "      <td>{Dobson}</td>\n",
       "      <td>1</td>\n",
       "    </tr>\n",
       "    <tr>\n",
       "      <th>53</th>\n",
       "      <td>6.9</td>\n",
       "      <td>{Muncie}</td>\n",
       "      <td>1</td>\n",
       "    </tr>\n",
       "    <tr>\n",
       "      <th>52</th>\n",
       "      <td>6.8</td>\n",
       "      <td>{Powell, Post Falls, Gloucester City, Gardena, Orland Park}</td>\n",
       "      <td>5</td>\n",
       "    </tr>\n",
       "    <tr>\n",
       "      <th>51</th>\n",
       "      <td>6.5</td>\n",
       "      <td>{Brockton}</td>\n",
       "      <td>1</td>\n",
       "    </tr>\n",
       "    <tr>\n",
       "      <th>50</th>\n",
       "      <td>6.4</td>\n",
       "      <td>{Kennesaw}</td>\n",
       "      <td>1</td>\n",
       "    </tr>\n",
       "  </tbody>\n",
       "</table>\n",
       "</div>"
      ],
      "text/plain": [
       "    eCPM                                                         city  \\\n",
       "59  19.3                                                  {La Crosse}   \n",
       "58  12.8                                              {Mountain View}   \n",
       "57   7.6                                                      {Huron}   \n",
       "56   7.5                                      {Lawrenceville, Oxnard}   \n",
       "55   7.3                          {Corbin, Clarks Summit, Colchester}   \n",
       "54   7.0                                                     {Dobson}   \n",
       "53   6.9                                                     {Muncie}   \n",
       "52   6.8  {Powell, Post Falls, Gloucester City, Gardena, Orland Park}   \n",
       "51   6.5                                                   {Brockton}   \n",
       "50   6.4                                                   {Kennesaw}   \n",
       "\n",
       "    count_city  \n",
       "59           1  \n",
       "58           1  \n",
       "57           1  \n",
       "56           2  \n",
       "55           3  \n",
       "54           1  \n",
       "53           1  \n",
       "52           5  \n",
       "51           1  \n",
       "50           1  "
      ]
     },
     "execution_count": 31,
     "metadata": {},
     "output_type": "execute_result"
    }
   ],
   "source": [
    "eCPM_city_banner"
   ]
  },
  {
   "cell_type": "code",
   "execution_count": 32,
   "metadata": {},
   "outputs": [],
   "source": [
    "eCPM_city_banner['city'] = eCPM_city_banner['city'].apply(lambda x: ', '.join(x))"
   ]
  },
  {
   "cell_type": "code",
   "execution_count": 33,
   "metadata": {},
   "outputs": [
    {
     "data": {
      "text/html": [
       "<div>\n",
       "<style scoped>\n",
       "    .dataframe tbody tr th:only-of-type {\n",
       "        vertical-align: middle;\n",
       "    }\n",
       "\n",
       "    .dataframe tbody tr th {\n",
       "        vertical-align: top;\n",
       "    }\n",
       "\n",
       "    .dataframe thead th {\n",
       "        text-align: right;\n",
       "    }\n",
       "</style>\n",
       "<table border=\"1\" class=\"dataframe\">\n",
       "  <thead>\n",
       "    <tr style=\"text-align: right;\">\n",
       "      <th></th>\n",
       "      <th>eCPM</th>\n",
       "      <th>city</th>\n",
       "      <th>count_city</th>\n",
       "    </tr>\n",
       "  </thead>\n",
       "  <tbody>\n",
       "    <tr>\n",
       "      <th>59</th>\n",
       "      <td>19.3</td>\n",
       "      <td>La Crosse</td>\n",
       "      <td>1</td>\n",
       "    </tr>\n",
       "    <tr>\n",
       "      <th>58</th>\n",
       "      <td>12.8</td>\n",
       "      <td>Mountain View</td>\n",
       "      <td>1</td>\n",
       "    </tr>\n",
       "    <tr>\n",
       "      <th>57</th>\n",
       "      <td>7.6</td>\n",
       "      <td>Huron</td>\n",
       "      <td>1</td>\n",
       "    </tr>\n",
       "    <tr>\n",
       "      <th>56</th>\n",
       "      <td>7.5</td>\n",
       "      <td>Lawrenceville, Oxnard</td>\n",
       "      <td>2</td>\n",
       "    </tr>\n",
       "    <tr>\n",
       "      <th>55</th>\n",
       "      <td>7.3</td>\n",
       "      <td>Corbin, Clarks Summit, Colchester</td>\n",
       "      <td>3</td>\n",
       "    </tr>\n",
       "    <tr>\n",
       "      <th>54</th>\n",
       "      <td>7.0</td>\n",
       "      <td>Dobson</td>\n",
       "      <td>1</td>\n",
       "    </tr>\n",
       "    <tr>\n",
       "      <th>53</th>\n",
       "      <td>6.9</td>\n",
       "      <td>Muncie</td>\n",
       "      <td>1</td>\n",
       "    </tr>\n",
       "    <tr>\n",
       "      <th>52</th>\n",
       "      <td>6.8</td>\n",
       "      <td>Powell, Post Falls, Gloucester City, Gardena, Orland Park</td>\n",
       "      <td>5</td>\n",
       "    </tr>\n",
       "    <tr>\n",
       "      <th>51</th>\n",
       "      <td>6.5</td>\n",
       "      <td>Brockton</td>\n",
       "      <td>1</td>\n",
       "    </tr>\n",
       "    <tr>\n",
       "      <th>50</th>\n",
       "      <td>6.4</td>\n",
       "      <td>Kennesaw</td>\n",
       "      <td>1</td>\n",
       "    </tr>\n",
       "  </tbody>\n",
       "</table>\n",
       "</div>"
      ],
      "text/plain": [
       "    eCPM                                                       city  \\\n",
       "59  19.3                                                  La Crosse   \n",
       "58  12.8                                              Mountain View   \n",
       "57   7.6                                                      Huron   \n",
       "56   7.5                                      Lawrenceville, Oxnard   \n",
       "55   7.3                          Corbin, Clarks Summit, Colchester   \n",
       "54   7.0                                                     Dobson   \n",
       "53   6.9                                                     Muncie   \n",
       "52   6.8  Powell, Post Falls, Gloucester City, Gardena, Orland Park   \n",
       "51   6.5                                                   Brockton   \n",
       "50   6.4                                                   Kennesaw   \n",
       "\n",
       "    count_city  \n",
       "59           1  \n",
       "58           1  \n",
       "57           1  \n",
       "56           2  \n",
       "55           3  \n",
       "54           1  \n",
       "53           1  \n",
       "52           5  \n",
       "51           1  \n",
       "50           1  "
      ]
     },
     "execution_count": 33,
     "metadata": {},
     "output_type": "execute_result"
    }
   ],
   "source": [
    "eCPM_city_banner"
   ]
  },
  {
   "cell_type": "markdown",
   "metadata": {},
   "source": [
    "#### Для полноэкранной рекламы"
   ]
  },
  {
   "cell_type": "code",
   "execution_count": 34,
   "metadata": {},
   "outputs": [
    {
     "data": {
      "text/html": [
       "<div>\n",
       "<style scoped>\n",
       "    .dataframe tbody tr th:only-of-type {\n",
       "        vertical-align: middle;\n",
       "    }\n",
       "\n",
       "    .dataframe tbody tr th {\n",
       "        vertical-align: top;\n",
       "    }\n",
       "\n",
       "    .dataframe thead th {\n",
       "        text-align: right;\n",
       "    }\n",
       "</style>\n",
       "<table border=\"1\" class=\"dataframe\">\n",
       "  <thead>\n",
       "    <tr style=\"text-align: right;\">\n",
       "      <th></th>\n",
       "      <th>city</th>\n",
       "      <th>ad_type</th>\n",
       "      <th>eCPM</th>\n",
       "    </tr>\n",
       "  </thead>\n",
       "  <tbody>\n",
       "    <tr>\n",
       "      <th>1121</th>\n",
       "      <td>Lincoln City</td>\n",
       "      <td>int</td>\n",
       "      <td>2.750576</td>\n",
       "    </tr>\n",
       "    <tr>\n",
       "      <th>332</th>\n",
       "      <td>Chantilly</td>\n",
       "      <td>int</td>\n",
       "      <td>2.890648</td>\n",
       "    </tr>\n",
       "    <tr>\n",
       "      <th>975</th>\n",
       "      <td>Kailua-Kona</td>\n",
       "      <td>int</td>\n",
       "      <td>2.910271</td>\n",
       "    </tr>\n",
       "    <tr>\n",
       "      <th>1460</th>\n",
       "      <td>Ocala</td>\n",
       "      <td>int</td>\n",
       "      <td>2.926826</td>\n",
       "    </tr>\n",
       "    <tr>\n",
       "      <th>678</th>\n",
       "      <td>Fort Walton Beach</td>\n",
       "      <td>int</td>\n",
       "      <td>2.960040</td>\n",
       "    </tr>\n",
       "    <tr>\n",
       "      <th>...</th>\n",
       "      <td>...</td>\n",
       "      <td>...</td>\n",
       "      <td>...</td>\n",
       "    </tr>\n",
       "    <tr>\n",
       "      <th>1450</th>\n",
       "      <td>Norwood</td>\n",
       "      <td>int</td>\n",
       "      <td>245.528961</td>\n",
       "    </tr>\n",
       "    <tr>\n",
       "      <th>1369</th>\n",
       "      <td>Nashua</td>\n",
       "      <td>int</td>\n",
       "      <td>252.555569</td>\n",
       "    </tr>\n",
       "    <tr>\n",
       "      <th>1728</th>\n",
       "      <td>Rohnert Park</td>\n",
       "      <td>int</td>\n",
       "      <td>297.600000</td>\n",
       "    </tr>\n",
       "    <tr>\n",
       "      <th>1030</th>\n",
       "      <td>La Crosse</td>\n",
       "      <td>int</td>\n",
       "      <td>415.159332</td>\n",
       "    </tr>\n",
       "    <tr>\n",
       "      <th>1172</th>\n",
       "      <td>Madisonville</td>\n",
       "      <td>int</td>\n",
       "      <td>437.039882</td>\n",
       "    </tr>\n",
       "  </tbody>\n",
       "</table>\n",
       "<p>869 rows × 3 columns</p>\n",
       "</div>"
      ],
      "text/plain": [
       "                   city ad_type        eCPM\n",
       "1121       Lincoln City     int    2.750576\n",
       "332           Chantilly     int    2.890648\n",
       "975         Kailua-Kona     int    2.910271\n",
       "1460              Ocala     int    2.926826\n",
       "678   Fort Walton Beach     int    2.960040\n",
       "...                 ...     ...         ...\n",
       "1450            Norwood     int  245.528961\n",
       "1369             Nashua     int  252.555569\n",
       "1728       Rohnert Park     int  297.600000\n",
       "1030          La Crosse     int  415.159332\n",
       "1172       Madisonville     int  437.039882\n",
       "\n",
       "[869 rows x 3 columns]"
      ]
     },
     "execution_count": 34,
     "metadata": {},
     "output_type": "execute_result"
    }
   ],
   "source": [
    "eCPM_city_int.sort_values('eCPM')\n",
    "# средние eCPM-ы в диапазоне от 2.750576 до 437.039882\n",
    "# округлим до целого для группировки городов по eCPM"
   ]
  },
  {
   "cell_type": "code",
   "execution_count": 35,
   "metadata": {},
   "outputs": [],
   "source": [
    "eCPM_city_int.eCPM = eCPM_city_int.eCPM.round(0)"
   ]
  },
  {
   "cell_type": "code",
   "execution_count": 36,
   "metadata": {},
   "outputs": [],
   "source": [
    "eCPM_city_int = eCPM_city_int.groupby('eCPM', as_index=False).agg({'city': [set, 'count']}) \\\n",
    ".sort_values('eCPM', ascending=False).head(10)\n",
    "# возьмем топ-10"
   ]
  },
  {
   "cell_type": "code",
   "execution_count": 37,
   "metadata": {},
   "outputs": [],
   "source": [
    "eCPM_city_int.columns = eCPM_city_int.columns.map(''.join)\n",
    "eCPM_city_int = eCPM_city_int.rename(columns=({'cityset': 'city', 'citycount': 'count_city'}))"
   ]
  },
  {
   "cell_type": "code",
   "execution_count": 38,
   "metadata": {},
   "outputs": [
    {
     "data": {
      "text/html": [
       "<div>\n",
       "<style scoped>\n",
       "    .dataframe tbody tr th:only-of-type {\n",
       "        vertical-align: middle;\n",
       "    }\n",
       "\n",
       "    .dataframe tbody tr th {\n",
       "        vertical-align: top;\n",
       "    }\n",
       "\n",
       "    .dataframe thead th {\n",
       "        text-align: right;\n",
       "    }\n",
       "</style>\n",
       "<table border=\"1\" class=\"dataframe\">\n",
       "  <thead>\n",
       "    <tr style=\"text-align: right;\">\n",
       "      <th></th>\n",
       "      <th>eCPM</th>\n",
       "      <th>city</th>\n",
       "      <th>count_city</th>\n",
       "    </tr>\n",
       "  </thead>\n",
       "  <tbody>\n",
       "    <tr>\n",
       "      <th>135</th>\n",
       "      <td>437.0</td>\n",
       "      <td>{Madisonville}</td>\n",
       "      <td>1</td>\n",
       "    </tr>\n",
       "    <tr>\n",
       "      <th>134</th>\n",
       "      <td>415.0</td>\n",
       "      <td>{La Crosse}</td>\n",
       "      <td>1</td>\n",
       "    </tr>\n",
       "    <tr>\n",
       "      <th>133</th>\n",
       "      <td>298.0</td>\n",
       "      <td>{Rohnert Park}</td>\n",
       "      <td>1</td>\n",
       "    </tr>\n",
       "    <tr>\n",
       "      <th>132</th>\n",
       "      <td>253.0</td>\n",
       "      <td>{Nashua}</td>\n",
       "      <td>1</td>\n",
       "    </tr>\n",
       "    <tr>\n",
       "      <th>131</th>\n",
       "      <td>246.0</td>\n",
       "      <td>{Norwood}</td>\n",
       "      <td>1</td>\n",
       "    </tr>\n",
       "    <tr>\n",
       "      <th>130</th>\n",
       "      <td>229.0</td>\n",
       "      <td>{Spirit Lake}</td>\n",
       "      <td>1</td>\n",
       "    </tr>\n",
       "    <tr>\n",
       "      <th>129</th>\n",
       "      <td>227.0</td>\n",
       "      <td>{Rocky Mount}</td>\n",
       "      <td>1</td>\n",
       "    </tr>\n",
       "    <tr>\n",
       "      <th>128</th>\n",
       "      <td>221.0</td>\n",
       "      <td>{Oxnard}</td>\n",
       "      <td>1</td>\n",
       "    </tr>\n",
       "    <tr>\n",
       "      <th>127</th>\n",
       "      <td>219.0</td>\n",
       "      <td>{Lake Worth}</td>\n",
       "      <td>1</td>\n",
       "    </tr>\n",
       "    <tr>\n",
       "      <th>126</th>\n",
       "      <td>214.0</td>\n",
       "      <td>{Fredericksburg, East Peoria}</td>\n",
       "      <td>2</td>\n",
       "    </tr>\n",
       "  </tbody>\n",
       "</table>\n",
       "</div>"
      ],
      "text/plain": [
       "      eCPM                           city  count_city\n",
       "135  437.0                 {Madisonville}           1\n",
       "134  415.0                    {La Crosse}           1\n",
       "133  298.0                 {Rohnert Park}           1\n",
       "132  253.0                       {Nashua}           1\n",
       "131  246.0                      {Norwood}           1\n",
       "130  229.0                  {Spirit Lake}           1\n",
       "129  227.0                  {Rocky Mount}           1\n",
       "128  221.0                       {Oxnard}           1\n",
       "127  219.0                   {Lake Worth}           1\n",
       "126  214.0  {Fredericksburg, East Peoria}           2"
      ]
     },
     "execution_count": 38,
     "metadata": {},
     "output_type": "execute_result"
    }
   ],
   "source": [
    "eCPM_city_int"
   ]
  },
  {
   "cell_type": "code",
   "execution_count": 39,
   "metadata": {},
   "outputs": [],
   "source": [
    "eCPM_city_int['city'] = eCPM_city_int['city'].apply(lambda x: ', '.join(x))"
   ]
  },
  {
   "cell_type": "code",
   "execution_count": 40,
   "metadata": {},
   "outputs": [
    {
     "data": {
      "text/html": [
       "<div>\n",
       "<style scoped>\n",
       "    .dataframe tbody tr th:only-of-type {\n",
       "        vertical-align: middle;\n",
       "    }\n",
       "\n",
       "    .dataframe tbody tr th {\n",
       "        vertical-align: top;\n",
       "    }\n",
       "\n",
       "    .dataframe thead th {\n",
       "        text-align: right;\n",
       "    }\n",
       "</style>\n",
       "<table border=\"1\" class=\"dataframe\">\n",
       "  <thead>\n",
       "    <tr style=\"text-align: right;\">\n",
       "      <th></th>\n",
       "      <th>eCPM</th>\n",
       "      <th>city</th>\n",
       "      <th>count_city</th>\n",
       "    </tr>\n",
       "  </thead>\n",
       "  <tbody>\n",
       "    <tr>\n",
       "      <th>135</th>\n",
       "      <td>437.0</td>\n",
       "      <td>Madisonville</td>\n",
       "      <td>1</td>\n",
       "    </tr>\n",
       "    <tr>\n",
       "      <th>134</th>\n",
       "      <td>415.0</td>\n",
       "      <td>La Crosse</td>\n",
       "      <td>1</td>\n",
       "    </tr>\n",
       "    <tr>\n",
       "      <th>133</th>\n",
       "      <td>298.0</td>\n",
       "      <td>Rohnert Park</td>\n",
       "      <td>1</td>\n",
       "    </tr>\n",
       "    <tr>\n",
       "      <th>132</th>\n",
       "      <td>253.0</td>\n",
       "      <td>Nashua</td>\n",
       "      <td>1</td>\n",
       "    </tr>\n",
       "    <tr>\n",
       "      <th>131</th>\n",
       "      <td>246.0</td>\n",
       "      <td>Norwood</td>\n",
       "      <td>1</td>\n",
       "    </tr>\n",
       "    <tr>\n",
       "      <th>130</th>\n",
       "      <td>229.0</td>\n",
       "      <td>Spirit Lake</td>\n",
       "      <td>1</td>\n",
       "    </tr>\n",
       "    <tr>\n",
       "      <th>129</th>\n",
       "      <td>227.0</td>\n",
       "      <td>Rocky Mount</td>\n",
       "      <td>1</td>\n",
       "    </tr>\n",
       "    <tr>\n",
       "      <th>128</th>\n",
       "      <td>221.0</td>\n",
       "      <td>Oxnard</td>\n",
       "      <td>1</td>\n",
       "    </tr>\n",
       "    <tr>\n",
       "      <th>127</th>\n",
       "      <td>219.0</td>\n",
       "      <td>Lake Worth</td>\n",
       "      <td>1</td>\n",
       "    </tr>\n",
       "    <tr>\n",
       "      <th>126</th>\n",
       "      <td>214.0</td>\n",
       "      <td>Fredericksburg, East Peoria</td>\n",
       "      <td>2</td>\n",
       "    </tr>\n",
       "  </tbody>\n",
       "</table>\n",
       "</div>"
      ],
      "text/plain": [
       "      eCPM                         city  count_city\n",
       "135  437.0                 Madisonville           1\n",
       "134  415.0                    La Crosse           1\n",
       "133  298.0                 Rohnert Park           1\n",
       "132  253.0                       Nashua           1\n",
       "131  246.0                      Norwood           1\n",
       "130  229.0                  Spirit Lake           1\n",
       "129  227.0                  Rocky Mount           1\n",
       "128  221.0                       Oxnard           1\n",
       "127  219.0                   Lake Worth           1\n",
       "126  214.0  Fredericksburg, East Peoria           2"
      ]
     },
     "execution_count": 40,
     "metadata": {},
     "output_type": "execute_result"
    }
   ],
   "source": [
    "eCPM_city_int"
   ]
  },
  {
   "cell_type": "markdown",
   "metadata": {},
   "source": [
    "#### Для видео"
   ]
  },
  {
   "cell_type": "code",
   "execution_count": 41,
   "metadata": {},
   "outputs": [
    {
     "data": {
      "text/html": [
       "<div>\n",
       "<style scoped>\n",
       "    .dataframe tbody tr th:only-of-type {\n",
       "        vertical-align: middle;\n",
       "    }\n",
       "\n",
       "    .dataframe tbody tr th {\n",
       "        vertical-align: top;\n",
       "    }\n",
       "\n",
       "    .dataframe thead th {\n",
       "        text-align: right;\n",
       "    }\n",
       "</style>\n",
       "<table border=\"1\" class=\"dataframe\">\n",
       "  <thead>\n",
       "    <tr style=\"text-align: right;\">\n",
       "      <th></th>\n",
       "      <th>city</th>\n",
       "      <th>ad_type</th>\n",
       "      <th>eCPM</th>\n",
       "    </tr>\n",
       "  </thead>\n",
       "  <tbody>\n",
       "    <tr>\n",
       "      <th>2009</th>\n",
       "      <td>Utica</td>\n",
       "      <td>rv</td>\n",
       "      <td>3.339551</td>\n",
       "    </tr>\n",
       "    <tr>\n",
       "      <th>679</th>\n",
       "      <td>Fort Walton Beach</td>\n",
       "      <td>rv</td>\n",
       "      <td>4.074518</td>\n",
       "    </tr>\n",
       "    <tr>\n",
       "      <th>1456</th>\n",
       "      <td>Oak Creek</td>\n",
       "      <td>rv</td>\n",
       "      <td>4.178594</td>\n",
       "    </tr>\n",
       "    <tr>\n",
       "      <th>166</th>\n",
       "      <td>Bethlehem</td>\n",
       "      <td>rv</td>\n",
       "      <td>7.974126</td>\n",
       "    </tr>\n",
       "    <tr>\n",
       "      <th>2004</th>\n",
       "      <td>Uniontown</td>\n",
       "      <td>rv</td>\n",
       "      <td>9.083504</td>\n",
       "    </tr>\n",
       "    <tr>\n",
       "      <th>...</th>\n",
       "      <td>...</td>\n",
       "      <td>...</td>\n",
       "      <td>...</td>\n",
       "    </tr>\n",
       "    <tr>\n",
       "      <th>1725</th>\n",
       "      <td>Rocky Mount</td>\n",
       "      <td>rv</td>\n",
       "      <td>290.111970</td>\n",
       "    </tr>\n",
       "    <tr>\n",
       "      <th>2019</th>\n",
       "      <td>Valparaiso</td>\n",
       "      <td>rv</td>\n",
       "      <td>318.750000</td>\n",
       "    </tr>\n",
       "    <tr>\n",
       "      <th>918</th>\n",
       "      <td>Idaho Falls</td>\n",
       "      <td>rv</td>\n",
       "      <td>366.840286</td>\n",
       "    </tr>\n",
       "    <tr>\n",
       "      <th>1451</th>\n",
       "      <td>Norwood</td>\n",
       "      <td>rv</td>\n",
       "      <td>597.984497</td>\n",
       "    </tr>\n",
       "    <tr>\n",
       "      <th>549</th>\n",
       "      <td>East Peoria</td>\n",
       "      <td>rv</td>\n",
       "      <td>808.294820</td>\n",
       "    </tr>\n",
       "  </tbody>\n",
       "</table>\n",
       "<p>454 rows × 3 columns</p>\n",
       "</div>"
      ],
      "text/plain": [
       "                   city ad_type        eCPM\n",
       "2009              Utica      rv    3.339551\n",
       "679   Fort Walton Beach      rv    4.074518\n",
       "1456          Oak Creek      rv    4.178594\n",
       "166           Bethlehem      rv    7.974126\n",
       "2004          Uniontown      rv    9.083504\n",
       "...                 ...     ...         ...\n",
       "1725        Rocky Mount      rv  290.111970\n",
       "2019         Valparaiso      rv  318.750000\n",
       "918         Idaho Falls      rv  366.840286\n",
       "1451            Norwood      rv  597.984497\n",
       "549         East Peoria      rv  808.294820\n",
       "\n",
       "[454 rows x 3 columns]"
      ]
     },
     "execution_count": 41,
     "metadata": {},
     "output_type": "execute_result"
    }
   ],
   "source": [
    "eCPM_city_rv.sort_values('eCPM')\n",
    "# средние eCPM-ы в диапазоне от 3.339551 до 808.294820\n",
    "# округлим до целого для группировки городов по eCPM"
   ]
  },
  {
   "cell_type": "code",
   "execution_count": 42,
   "metadata": {
    "id": "j_FZ5RmCy3Y9"
   },
   "outputs": [],
   "source": [
    "eCPM_city_rv.eCPM = eCPM_city_rv.eCPM.round(0)"
   ]
  },
  {
   "cell_type": "code",
   "execution_count": 43,
   "metadata": {},
   "outputs": [],
   "source": [
    "eCPM_city_rv = eCPM_city_rv.groupby('eCPM', as_index=False).agg({'city': [set, 'count']}) \\\n",
    ".sort_values('eCPM', ascending=False).head(10)\n",
    "# возьмем топ-10"
   ]
  },
  {
   "cell_type": "code",
   "execution_count": 44,
   "metadata": {},
   "outputs": [],
   "source": [
    "eCPM_city_rv.columns = eCPM_city_rv.columns.map(''.join)\n",
    "eCPM_city_rv = eCPM_city_rv.rename(columns=({'cityset': 'city', 'citycount': 'count_city'}))"
   ]
  },
  {
   "cell_type": "code",
   "execution_count": 45,
   "metadata": {
    "colab": {
     "base_uri": "https://localhost:8080/",
     "height": 424
    },
    "executionInfo": {
     "elapsed": 341,
     "status": "ok",
     "timestamp": 1655309126522,
     "user": {
      "displayName": "мое имя",
      "userId": "04682591971747797754"
     },
     "user_tz": -300
    },
    "id": "kTilQOq9GGOu",
    "outputId": "6ea91435-0a3c-4db9-cf84-579e7f80fa53"
   },
   "outputs": [
    {
     "data": {
      "text/html": [
       "<div>\n",
       "<style scoped>\n",
       "    .dataframe tbody tr th:only-of-type {\n",
       "        vertical-align: middle;\n",
       "    }\n",
       "\n",
       "    .dataframe tbody tr th {\n",
       "        vertical-align: top;\n",
       "    }\n",
       "\n",
       "    .dataframe thead th {\n",
       "        text-align: right;\n",
       "    }\n",
       "</style>\n",
       "<table border=\"1\" class=\"dataframe\">\n",
       "  <thead>\n",
       "    <tr style=\"text-align: right;\">\n",
       "      <th></th>\n",
       "      <th>eCPM</th>\n",
       "      <th>city</th>\n",
       "      <th>count_city</th>\n",
       "    </tr>\n",
       "  </thead>\n",
       "  <tbody>\n",
       "    <tr>\n",
       "      <th>147</th>\n",
       "      <td>808.0</td>\n",
       "      <td>{East Peoria}</td>\n",
       "      <td>1</td>\n",
       "    </tr>\n",
       "    <tr>\n",
       "      <th>146</th>\n",
       "      <td>598.0</td>\n",
       "      <td>{Norwood}</td>\n",
       "      <td>1</td>\n",
       "    </tr>\n",
       "    <tr>\n",
       "      <th>145</th>\n",
       "      <td>367.0</td>\n",
       "      <td>{Idaho Falls}</td>\n",
       "      <td>1</td>\n",
       "    </tr>\n",
       "    <tr>\n",
       "      <th>144</th>\n",
       "      <td>319.0</td>\n",
       "      <td>{Valparaiso}</td>\n",
       "      <td>1</td>\n",
       "    </tr>\n",
       "    <tr>\n",
       "      <th>143</th>\n",
       "      <td>290.0</td>\n",
       "      <td>{Rocky Mount}</td>\n",
       "      <td>1</td>\n",
       "    </tr>\n",
       "    <tr>\n",
       "      <th>142</th>\n",
       "      <td>279.0</td>\n",
       "      <td>{Hilliard}</td>\n",
       "      <td>1</td>\n",
       "    </tr>\n",
       "    <tr>\n",
       "      <th>141</th>\n",
       "      <td>277.0</td>\n",
       "      <td>{Glen Burnie}</td>\n",
       "      <td>1</td>\n",
       "    </tr>\n",
       "    <tr>\n",
       "      <th>140</th>\n",
       "      <td>276.0</td>\n",
       "      <td>{Mayfield}</td>\n",
       "      <td>1</td>\n",
       "    </tr>\n",
       "    <tr>\n",
       "      <th>139</th>\n",
       "      <td>249.0</td>\n",
       "      <td>{El Paso}</td>\n",
       "      <td>1</td>\n",
       "    </tr>\n",
       "    <tr>\n",
       "      <th>138</th>\n",
       "      <td>245.0</td>\n",
       "      <td>{Port Huron}</td>\n",
       "      <td>1</td>\n",
       "    </tr>\n",
       "  </tbody>\n",
       "</table>\n",
       "</div>"
      ],
      "text/plain": [
       "      eCPM           city  count_city\n",
       "147  808.0  {East Peoria}           1\n",
       "146  598.0      {Norwood}           1\n",
       "145  367.0  {Idaho Falls}           1\n",
       "144  319.0   {Valparaiso}           1\n",
       "143  290.0  {Rocky Mount}           1\n",
       "142  279.0     {Hilliard}           1\n",
       "141  277.0  {Glen Burnie}           1\n",
       "140  276.0     {Mayfield}           1\n",
       "139  249.0      {El Paso}           1\n",
       "138  245.0   {Port Huron}           1"
      ]
     },
     "execution_count": 45,
     "metadata": {},
     "output_type": "execute_result"
    }
   ],
   "source": [
    "eCPM_city_rv"
   ]
  },
  {
   "cell_type": "code",
   "execution_count": 46,
   "metadata": {},
   "outputs": [],
   "source": [
    "eCPM_city_rv['city'] = eCPM_city_rv['city'].apply(lambda x: ', '.join(x))"
   ]
  },
  {
   "cell_type": "code",
   "execution_count": 47,
   "metadata": {},
   "outputs": [
    {
     "data": {
      "text/html": [
       "<div>\n",
       "<style scoped>\n",
       "    .dataframe tbody tr th:only-of-type {\n",
       "        vertical-align: middle;\n",
       "    }\n",
       "\n",
       "    .dataframe tbody tr th {\n",
       "        vertical-align: top;\n",
       "    }\n",
       "\n",
       "    .dataframe thead th {\n",
       "        text-align: right;\n",
       "    }\n",
       "</style>\n",
       "<table border=\"1\" class=\"dataframe\">\n",
       "  <thead>\n",
       "    <tr style=\"text-align: right;\">\n",
       "      <th></th>\n",
       "      <th>eCPM</th>\n",
       "      <th>city</th>\n",
       "      <th>count_city</th>\n",
       "    </tr>\n",
       "  </thead>\n",
       "  <tbody>\n",
       "    <tr>\n",
       "      <th>147</th>\n",
       "      <td>808.0</td>\n",
       "      <td>East Peoria</td>\n",
       "      <td>1</td>\n",
       "    </tr>\n",
       "    <tr>\n",
       "      <th>146</th>\n",
       "      <td>598.0</td>\n",
       "      <td>Norwood</td>\n",
       "      <td>1</td>\n",
       "    </tr>\n",
       "    <tr>\n",
       "      <th>145</th>\n",
       "      <td>367.0</td>\n",
       "      <td>Idaho Falls</td>\n",
       "      <td>1</td>\n",
       "    </tr>\n",
       "    <tr>\n",
       "      <th>144</th>\n",
       "      <td>319.0</td>\n",
       "      <td>Valparaiso</td>\n",
       "      <td>1</td>\n",
       "    </tr>\n",
       "    <tr>\n",
       "      <th>143</th>\n",
       "      <td>290.0</td>\n",
       "      <td>Rocky Mount</td>\n",
       "      <td>1</td>\n",
       "    </tr>\n",
       "    <tr>\n",
       "      <th>142</th>\n",
       "      <td>279.0</td>\n",
       "      <td>Hilliard</td>\n",
       "      <td>1</td>\n",
       "    </tr>\n",
       "    <tr>\n",
       "      <th>141</th>\n",
       "      <td>277.0</td>\n",
       "      <td>Glen Burnie</td>\n",
       "      <td>1</td>\n",
       "    </tr>\n",
       "    <tr>\n",
       "      <th>140</th>\n",
       "      <td>276.0</td>\n",
       "      <td>Mayfield</td>\n",
       "      <td>1</td>\n",
       "    </tr>\n",
       "    <tr>\n",
       "      <th>139</th>\n",
       "      <td>249.0</td>\n",
       "      <td>El Paso</td>\n",
       "      <td>1</td>\n",
       "    </tr>\n",
       "    <tr>\n",
       "      <th>138</th>\n",
       "      <td>245.0</td>\n",
       "      <td>Port Huron</td>\n",
       "      <td>1</td>\n",
       "    </tr>\n",
       "  </tbody>\n",
       "</table>\n",
       "</div>"
      ],
      "text/plain": [
       "      eCPM         city  count_city\n",
       "147  808.0  East Peoria           1\n",
       "146  598.0      Norwood           1\n",
       "145  367.0  Idaho Falls           1\n",
       "144  319.0   Valparaiso           1\n",
       "143  290.0  Rocky Mount           1\n",
       "142  279.0     Hilliard           1\n",
       "141  277.0  Glen Burnie           1\n",
       "140  276.0     Mayfield           1\n",
       "139  249.0      El Paso           1\n",
       "138  245.0   Port Huron           1"
      ]
     },
     "execution_count": 47,
     "metadata": {},
     "output_type": "execute_result"
    }
   ],
   "source": [
    "eCPM_city_rv"
   ]
  },
  {
   "cell_type": "code",
   "execution_count": 48,
   "metadata": {},
   "outputs": [
    {
     "data": {
      "image/png": "[encoded data removed]",
      "text/plain": [
       "<Figure size 1080x720 with 3 Axes>"
      ]
     },
     "metadata": {},
     "output_type": "display_data"
    }
   ],
   "source": [
    "plt.figure(figsize=(15,10))\n",
    "\n",
    "plt.subplot(2, 2, 2)\n",
    "sns.barplot(x='eCPM', y='city', data=eCPM_city_banner).set(ylabel=None, xlabel=None)\n",
    "#plt.xticks(rotation=90)\n",
    "plt.title(\"для формата рекламы banner\")\n",
    "\n",
    "\n",
    "plt.subplot(2, 2, 3)\n",
    "sns.barplot(x='eCPM', y='city', data=eCPM_city_int).set(ylabel=None)\n",
    "#plt.xticks(rotation=90)\n",
    "plt.title(\"для формата рекламы int\")\n",
    "\n",
    "plt.subplot(2, 2, 4)\n",
    "sns.barplot(x='eCPM', y='city', data=eCPM_city_rv).set(ylabel=None)\n",
    "#plt.xticks(rotation=90)\n",
    "plt.title(\"для формата рекламы rv\")\n",
    "\n",
    "plt.suptitle(\"Топ городов по средним eCPM\", size = 15)\n",
    "\n",
    "plt.show()"
   ]
  },
  {
   "cell_type": "markdown",
   "metadata": {},
   "source": [
    "Видно, что топ городов различается для каждого вида рекламы. Можно выделить город La Crosse - в нем большие средние значения eCPM-ов для реклам banner и int, так же город Oxnard входит в топ по этим двум рекламам. У реклам int и rv больше совместных городов, которые входят в топ - Norwood, Spirit Lake, Rocky Mount и East Peoria."
   ]
  },
  {
   "cell_type": "markdown",
   "metadata": {},
   "source": [
    "### Рассмотрим средние eCPM-ы для каждого типа рекламы по версиям ос:"
   ]
  },
  {
   "cell_type": "code",
   "execution_count": 49,
   "metadata": {
    "id": "fCyySMAVJdD9"
   },
   "outputs": [],
   "source": [
    "eCPM_os_version_banner = df.groupby(['os_version', 'ad_type'], as_index=False).agg({'eCPM': 'mean'}).query('ad_type==\"banner\"')\n",
    "eCPM_os_version_int = df.groupby(['os_version', 'ad_type'], as_index=False).agg({'eCPM': 'mean'}).query('ad_type==\"int\"')\n",
    "eCPM_os_version_rv = df.groupby(['os_version', 'ad_type'], as_index=False).agg({'eCPM': 'mean'}).query('ad_type==\"rv\"')"
   ]
  },
  {
   "cell_type": "code",
   "execution_count": 50,
   "metadata": {},
   "outputs": [
    {
     "data": {
      "text/html": [
       "<div>\n",
       "<style scoped>\n",
       "    .dataframe tbody tr th:only-of-type {\n",
       "        vertical-align: middle;\n",
       "    }\n",
       "\n",
       "    .dataframe tbody tr th {\n",
       "        vertical-align: top;\n",
       "    }\n",
       "\n",
       "    .dataframe thead th {\n",
       "        text-align: right;\n",
       "    }\n",
       "</style>\n",
       "<table border=\"1\" class=\"dataframe\">\n",
       "  <thead>\n",
       "    <tr style=\"text-align: right;\">\n",
       "      <th></th>\n",
       "      <th>os_version</th>\n",
       "      <th>ad_type</th>\n",
       "      <th>eCPM</th>\n",
       "    </tr>\n",
       "  </thead>\n",
       "  <tbody>\n",
       "    <tr>\n",
       "      <th>9</th>\n",
       "      <td>5.0.2</td>\n",
       "      <td>banner</td>\n",
       "      <td>0.198288</td>\n",
       "    </tr>\n",
       "    <tr>\n",
       "      <th>12</th>\n",
       "      <td>6.0.1</td>\n",
       "      <td>banner</td>\n",
       "      <td>0.254481</td>\n",
       "    </tr>\n",
       "    <tr>\n",
       "      <th>15</th>\n",
       "      <td>7.0</td>\n",
       "      <td>banner</td>\n",
       "      <td>0.278132</td>\n",
       "    </tr>\n",
       "    <tr>\n",
       "      <th>18</th>\n",
       "      <td>7.1.1</td>\n",
       "      <td>banner</td>\n",
       "      <td>0.236141</td>\n",
       "    </tr>\n",
       "    <tr>\n",
       "      <th>21</th>\n",
       "      <td>7.1.2</td>\n",
       "      <td>banner</td>\n",
       "      <td>0.144868</td>\n",
       "    </tr>\n",
       "    <tr>\n",
       "      <th>23</th>\n",
       "      <td>8.0.0</td>\n",
       "      <td>banner</td>\n",
       "      <td>0.368201</td>\n",
       "    </tr>\n",
       "    <tr>\n",
       "      <th>26</th>\n",
       "      <td>8.1.0</td>\n",
       "      <td>banner</td>\n",
       "      <td>0.320697</td>\n",
       "    </tr>\n",
       "    <tr>\n",
       "      <th>29</th>\n",
       "      <td>9</td>\n",
       "      <td>banner</td>\n",
       "      <td>0.549553</td>\n",
       "    </tr>\n",
       "    <tr>\n",
       "      <th>0</th>\n",
       "      <td>10</td>\n",
       "      <td>banner</td>\n",
       "      <td>0.591274</td>\n",
       "    </tr>\n",
       "    <tr>\n",
       "      <th>3</th>\n",
       "      <td>11</td>\n",
       "      <td>banner</td>\n",
       "      <td>0.592766</td>\n",
       "    </tr>\n",
       "    <tr>\n",
       "      <th>6</th>\n",
       "      <td>12</td>\n",
       "      <td>banner</td>\n",
       "      <td>0.936871</td>\n",
       "    </tr>\n",
       "  </tbody>\n",
       "</table>\n",
       "</div>"
      ],
      "text/plain": [
       "   os_version ad_type      eCPM\n",
       "9       5.0.2  banner  0.198288\n",
       "12      6.0.1  banner  0.254481\n",
       "15        7.0  banner  0.278132\n",
       "18      7.1.1  banner  0.236141\n",
       "21      7.1.2  banner  0.144868\n",
       "23      8.0.0  banner  0.368201\n",
       "26      8.1.0  banner  0.320697\n",
       "29          9  banner  0.549553\n",
       "0          10  banner  0.591274\n",
       "3          11  banner  0.592766\n",
       "6          12  banner  0.936871"
      ]
     },
     "execution_count": 50,
     "metadata": {},
     "output_type": "execute_result"
    }
   ],
   "source": [
    "eCPM_os_version_banner.sort_values(by='os_version', key=natsort_keygen())"
   ]
  },
  {
   "cell_type": "code",
   "execution_count": 52,
   "metadata": {},
   "outputs": [
    {
     "data": {
      "image/png": "[encoded data removed]",
      "text/plain": [
       "<Figure size 1440x360 with 3 Axes>"
      ]
     },
     "metadata": {},
     "output_type": "display_data"
    }
   ],
   "source": [
    "plt.figure(figsize=(20,5))\n",
    "\n",
    "plt.subplot(1, 3, 1)\n",
    "sns.barplot(x='os_version', y='eCPM', data=eCPM_os_version_banner.sort_values(by='os_version', key=natsort_keygen()))\n",
    "#plt.ylabel('ecpm')\n",
    "plt.title(\"для формата рекламы banner\")\n",
    "\n",
    "\n",
    "plt.subplot(1, 3, 2)\n",
    "sns.barplot(x='os_version', y='eCPM', data=eCPM_os_version_int.sort_values(by='os_version', key=natsort_keygen()))\n",
    "#plt.ylabel('ecpm_int')\n",
    "plt.title(\"для формата рекламы int\")\n",
    "\n",
    "plt.subplot(1, 3, 3)\n",
    "sns.barplot(x='os_version', y='eCPM', data=eCPM_os_version_rv.sort_values(by='os_version', key=natsort_keygen()))\n",
    "#plt.ylabel('ecpm_rv')\n",
    "plt.title(\"для формата рекламы rv\")\n",
    "\n",
    "plt.suptitle(\"Распределение средних eCPM-ов по версиям\", size = 15, y = 1)\n",
    "\n",
    "plt.show()"
   ]
  },
  {
   "cell_type": "markdown",
   "metadata": {},
   "source": [
    "Пользователи с версией 7.1.2 не смотрят видео, возможно такой формат рекламы отсутствует в данной версии. Наиболее доходнымим форматами рекламы являются int (полноэкранная реклама) и rv (видео), они принесли больше дохода на версиях 7.0 и 12. Заметно увеличение среднего eCPM от версии к версии за исключением трех версий ОС - 7.1.1, 7.1.2, 8.1.0, так же в форматах рекламы int и rv исключение составляет версия 6.0.1."
   ]
  },
  {
   "cell_type": "markdown",
   "metadata": {},
   "source": [
    "Для более детального рассмотрения значений eCPM можно взглянуть на таблицу:"
   ]
  },
  {
   "cell_type": "code",
   "execution_count": 51,
   "metadata": {},
   "outputs": [],
   "source": [
    "eCPM_os_version = df.groupby(['ad_type', 'os_version'], as_index=False) \\\n",
    "    .agg({'eCPM': 'mean'}) \\\n",
    "    .pivot_table(columns='os_version', index='ad_type', values='eCPM') \\\n",
    "    .sort_values(by='os_version', key=natsort_keygen(), axis=1)"
   ]
  },
  {
   "cell_type": "code",
   "execution_count": 53,
   "metadata": {},
   "outputs": [
    {
     "data": {
      "text/html": [
       "<div>\n",
       "<style scoped>\n",
       "    .dataframe tbody tr th:only-of-type {\n",
       "        vertical-align: middle;\n",
       "    }\n",
       "\n",
       "    .dataframe tbody tr th {\n",
       "        vertical-align: top;\n",
       "    }\n",
       "\n",
       "    .dataframe thead th {\n",
       "        text-align: right;\n",
       "    }\n",
       "</style>\n",
       "<table border=\"1\" class=\"dataframe\">\n",
       "  <thead>\n",
       "    <tr style=\"text-align: right;\">\n",
       "      <th>os_version</th>\n",
       "      <th>5.0.2</th>\n",
       "      <th>6.0.1</th>\n",
       "      <th>7.0</th>\n",
       "      <th>7.1.1</th>\n",
       "      <th>7.1.2</th>\n",
       "      <th>8.0.0</th>\n",
       "      <th>8.1.0</th>\n",
       "      <th>9</th>\n",
       "      <th>10</th>\n",
       "      <th>11</th>\n",
       "      <th>12</th>\n",
       "    </tr>\n",
       "    <tr>\n",
       "      <th>ad_type</th>\n",
       "      <th></th>\n",
       "      <th></th>\n",
       "      <th></th>\n",
       "      <th></th>\n",
       "      <th></th>\n",
       "      <th></th>\n",
       "      <th></th>\n",
       "      <th></th>\n",
       "      <th></th>\n",
       "      <th></th>\n",
       "      <th></th>\n",
       "    </tr>\n",
       "  </thead>\n",
       "  <tbody>\n",
       "    <tr>\n",
       "      <th>banner</th>\n",
       "      <td>0.198288</td>\n",
       "      <td>0.254481</td>\n",
       "      <td>0.278132</td>\n",
       "      <td>0.236141</td>\n",
       "      <td>0.144868</td>\n",
       "      <td>0.368201</td>\n",
       "      <td>0.320697</td>\n",
       "      <td>0.549553</td>\n",
       "      <td>0.591274</td>\n",
       "      <td>0.592766</td>\n",
       "      <td>0.936871</td>\n",
       "    </tr>\n",
       "    <tr>\n",
       "      <th>int</th>\n",
       "      <td>14.969333</td>\n",
       "      <td>13.172003</td>\n",
       "      <td>39.266162</td>\n",
       "      <td>18.232767</td>\n",
       "      <td>11.964031</td>\n",
       "      <td>20.030134</td>\n",
       "      <td>17.694561</td>\n",
       "      <td>27.004733</td>\n",
       "      <td>31.216643</td>\n",
       "      <td>33.468471</td>\n",
       "      <td>42.391070</td>\n",
       "    </tr>\n",
       "    <tr>\n",
       "      <th>rv</th>\n",
       "      <td>14.188713</td>\n",
       "      <td>9.191038</td>\n",
       "      <td>79.662468</td>\n",
       "      <td>24.215299</td>\n",
       "      <td>NaN</td>\n",
       "      <td>38.614653</td>\n",
       "      <td>31.830249</td>\n",
       "      <td>50.151552</td>\n",
       "      <td>53.336882</td>\n",
       "      <td>53.378872</td>\n",
       "      <td>79.568911</td>\n",
       "    </tr>\n",
       "  </tbody>\n",
       "</table>\n",
       "</div>"
      ],
      "text/plain": [
       "os_version      5.0.2      6.0.1        7.0      7.1.1      7.1.2      8.0.0  \\\n",
       "ad_type                                                                        \n",
       "banner       0.198288   0.254481   0.278132   0.236141   0.144868   0.368201   \n",
       "int         14.969333  13.172003  39.266162  18.232767  11.964031  20.030134   \n",
       "rv          14.188713   9.191038  79.662468  24.215299        NaN  38.614653   \n",
       "\n",
       "os_version      8.1.0          9         10         11         12  \n",
       "ad_type                                                            \n",
       "banner       0.320697   0.549553   0.591274   0.592766   0.936871  \n",
       "int         17.694561  27.004733  31.216643  33.468471  42.391070  \n",
       "rv          31.830249  50.151552  53.336882  53.378872  79.568911  "
      ]
     },
     "execution_count": 53,
     "metadata": {},
     "output_type": "execute_result"
    }
   ],
   "source": [
    "eCPM_os_version"
   ]
  },
  {
   "cell_type": "markdown",
   "metadata": {},
   "source": [
    "#  Распределение доходов по городам и версиям ОС для каждого формата рекламы"
   ]
  },
  {
   "cell_type": "code",
   "execution_count": 54,
   "metadata": {},
   "outputs": [
    {
     "data": {
      "text/html": [
       "<div>\n",
       "<style scoped>\n",
       "    .dataframe tbody tr th:only-of-type {\n",
       "        vertical-align: middle;\n",
       "    }\n",
       "\n",
       "    .dataframe tbody tr th {\n",
       "        vertical-align: top;\n",
       "    }\n",
       "\n",
       "    .dataframe thead th {\n",
       "        text-align: right;\n",
       "    }\n",
       "</style>\n",
       "<table border=\"1\" class=\"dataframe\">\n",
       "  <thead>\n",
       "    <tr style=\"text-align: right;\">\n",
       "      <th></th>\n",
       "      <th>ad_type</th>\n",
       "      <th>revenue</th>\n",
       "      <th>city</th>\n",
       "      <th>os_version</th>\n",
       "    </tr>\n",
       "  </thead>\n",
       "  <tbody>\n",
       "    <tr>\n",
       "      <th>0</th>\n",
       "      <td>banner</td>\n",
       "      <td>0.000510</td>\n",
       "      <td>Norwalk</td>\n",
       "      <td>11</td>\n",
       "    </tr>\n",
       "    <tr>\n",
       "      <th>1</th>\n",
       "      <td>banner</td>\n",
       "      <td>0.000510</td>\n",
       "      <td>Norwalk</td>\n",
       "      <td>11</td>\n",
       "    </tr>\n",
       "    <tr>\n",
       "      <th>2</th>\n",
       "      <td>banner</td>\n",
       "      <td>0.002386</td>\n",
       "      <td>Charlotte</td>\n",
       "      <td>11</td>\n",
       "    </tr>\n",
       "    <tr>\n",
       "      <th>3</th>\n",
       "      <td>int</td>\n",
       "      <td>0.013894</td>\n",
       "      <td>Cocoa</td>\n",
       "      <td>10</td>\n",
       "    </tr>\n",
       "    <tr>\n",
       "      <th>4</th>\n",
       "      <td>banner</td>\n",
       "      <td>0.006828</td>\n",
       "      <td>NaN</td>\n",
       "      <td>10</td>\n",
       "    </tr>\n",
       "    <tr>\n",
       "      <th>...</th>\n",
       "      <td>...</td>\n",
       "      <td>...</td>\n",
       "      <td>...</td>\n",
       "      <td>...</td>\n",
       "    </tr>\n",
       "    <tr>\n",
       "      <th>860074</th>\n",
       "      <td>banner</td>\n",
       "      <td>0.000020</td>\n",
       "      <td>Elmira</td>\n",
       "      <td>12</td>\n",
       "    </tr>\n",
       "    <tr>\n",
       "      <th>860075</th>\n",
       "      <td>banner</td>\n",
       "      <td>0.006740</td>\n",
       "      <td>Cherry Hill</td>\n",
       "      <td>12</td>\n",
       "    </tr>\n",
       "    <tr>\n",
       "      <th>860076</th>\n",
       "      <td>banner</td>\n",
       "      <td>0.002780</td>\n",
       "      <td>Cherry Hill</td>\n",
       "      <td>12</td>\n",
       "    </tr>\n",
       "    <tr>\n",
       "      <th>860077</th>\n",
       "      <td>banner</td>\n",
       "      <td>0.002780</td>\n",
       "      <td>Cherry Hill</td>\n",
       "      <td>12</td>\n",
       "    </tr>\n",
       "    <tr>\n",
       "      <th>860078</th>\n",
       "      <td>banner</td>\n",
       "      <td>0.002780</td>\n",
       "      <td>Cherry Hill</td>\n",
       "      <td>12</td>\n",
       "    </tr>\n",
       "  </tbody>\n",
       "</table>\n",
       "<p>860079 rows × 4 columns</p>\n",
       "</div>"
      ],
      "text/plain": [
       "       ad_type   revenue         city os_version\n",
       "0       banner  0.000510      Norwalk         11\n",
       "1       banner  0.000510      Norwalk         11\n",
       "2       banner  0.002386    Charlotte         11\n",
       "3          int  0.013894        Cocoa         10\n",
       "4       banner  0.006828          NaN         10\n",
       "...        ...       ...          ...        ...\n",
       "860074  banner  0.000020       Elmira         12\n",
       "860075  banner  0.006740  Cherry Hill         12\n",
       "860076  banner  0.002780  Cherry Hill         12\n",
       "860077  banner  0.002780  Cherry Hill         12\n",
       "860078  banner  0.002780  Cherry Hill         12\n",
       "\n",
       "[860079 rows x 4 columns]"
      ]
     },
     "execution_count": 54,
     "metadata": {},
     "output_type": "execute_result"
    }
   ],
   "source": [
    "df[['ad_type', 'revenue', 'city', 'os_version']]"
   ]
  },
  {
   "cell_type": "code",
   "execution_count": 73,
   "metadata": {},
   "outputs": [
    {
     "data": {
      "image/png": "[encoded data removed]",
      "text/plain": [
       "<Figure size 1080x360 with 3 Axes>"
      ]
     },
     "metadata": {},
     "output_type": "display_data"
    }
   ],
   "source": [
    "plt.figure(figsize=(15,5))\n",
    "\n",
    "plt.subplot(1, 3, 1)\n",
    "plt.hist(df.groupby(['ad_type', 'city'], as_index=False).agg({'revenue': 'sum'}) \\\n",
    "  .query('ad_type == \"banner\"').revenue, bins = 50)\n",
    "plt.xlabel('revenue')\n",
    "plt.title(\"для формата рекламы banner\")\n",
    "\n",
    "plt.subplot(1, 3, 2)\n",
    "plt.hist(df.groupby(['ad_type', 'city'], as_index=False).agg({'revenue': 'sum'}) \\\n",
    "  .query('ad_type == \"int\"').revenue, bins = 50)\n",
    "plt.xlabel('revenue')\n",
    "plt.title(\"для формата рекламы int\")\n",
    "\n",
    "plt.subplot(1, 3, 3)\n",
    "plt.hist(df.groupby(['ad_type', 'city'], as_index=False).agg({'revenue': 'sum'}) \\\n",
    "  .query('ad_type == \"rv\"').revenue, bins = 50)\n",
    "plt.xlabel('revenue')\n",
    "plt.title(\"для формата рекламы rv\")\n",
    "\n",
    "plt.suptitle(\"Распределение доходов по городам\", size = 15, y = 1)\n",
    "\n",
    "plt.show()"
   ]
  },
  {
   "cell_type": "code",
   "execution_count": 68,
   "metadata": {},
   "outputs": [],
   "source": [
    "revenue_city_banner = df.groupby(['city', 'ad_type'], as_index=False).agg({'revenue': 'sum'}).query('ad_type==\"banner\"')\n",
    "revenue_city_int = df.groupby(['city', 'ad_type'], as_index=False).agg({'revenue': 'sum'}).query('ad_type==\"int\"')\n",
    "revenue_city_rv = df.groupby(['city', 'ad_type'], as_index=False).agg({'revenue': 'sum'}).query('ad_type==\"rv\"')"
   ]
  },
  {
   "cell_type": "code",
   "execution_count": 74,
   "metadata": {},
   "outputs": [
    {
     "data": {
      "text/html": [
       "<div>\n",
       "<style scoped>\n",
       "    .dataframe tbody tr th:only-of-type {\n",
       "        vertical-align: middle;\n",
       "    }\n",
       "\n",
       "    .dataframe tbody tr th {\n",
       "        vertical-align: top;\n",
       "    }\n",
       "\n",
       "    .dataframe thead th {\n",
       "        text-align: right;\n",
       "    }\n",
       "</style>\n",
       "<table border=\"1\" class=\"dataframe\">\n",
       "  <thead>\n",
       "    <tr style=\"text-align: right;\">\n",
       "      <th></th>\n",
       "      <th>city</th>\n",
       "      <th>ad_type</th>\n",
       "      <th>revenue</th>\n",
       "    </tr>\n",
       "  </thead>\n",
       "  <tbody>\n",
       "    <tr>\n",
       "      <th>46</th>\n",
       "      <td>Anderson</td>\n",
       "      <td>banner</td>\n",
       "      <td>0.000031</td>\n",
       "    </tr>\n",
       "    <tr>\n",
       "      <th>2076</th>\n",
       "      <td>Waukesha</td>\n",
       "      <td>banner</td>\n",
       "      <td>0.000045</td>\n",
       "    </tr>\n",
       "    <tr>\n",
       "      <th>640</th>\n",
       "      <td>Federal Way</td>\n",
       "      <td>banner</td>\n",
       "      <td>0.000055</td>\n",
       "    </tr>\n",
       "    <tr>\n",
       "      <th>831</th>\n",
       "      <td>Hartford</td>\n",
       "      <td>banner</td>\n",
       "      <td>0.000085</td>\n",
       "    </tr>\n",
       "    <tr>\n",
       "      <th>1912</th>\n",
       "      <td>Strongsville</td>\n",
       "      <td>banner</td>\n",
       "      <td>0.000086</td>\n",
       "    </tr>\n",
       "    <tr>\n",
       "      <th>...</th>\n",
       "      <td>...</td>\n",
       "      <td>...</td>\n",
       "      <td>...</td>\n",
       "    </tr>\n",
       "    <tr>\n",
       "      <th>1289</th>\n",
       "      <td>Minneapolis</td>\n",
       "      <td>banner</td>\n",
       "      <td>7.629354</td>\n",
       "    </tr>\n",
       "    <tr>\n",
       "      <th>893</th>\n",
       "      <td>Houston</td>\n",
       "      <td>banner</td>\n",
       "      <td>8.664916</td>\n",
       "    </tr>\n",
       "    <tr>\n",
       "      <th>1886</th>\n",
       "      <td>Spokane</td>\n",
       "      <td>banner</td>\n",
       "      <td>8.862484</td>\n",
       "    </tr>\n",
       "    <tr>\n",
       "      <th>922</th>\n",
       "      <td>Indianapolis</td>\n",
       "      <td>banner</td>\n",
       "      <td>9.789215</td>\n",
       "    </tr>\n",
       "    <tr>\n",
       "      <th>1398</th>\n",
       "      <td>New York</td>\n",
       "      <td>banner</td>\n",
       "      <td>12.708617</td>\n",
       "    </tr>\n",
       "  </tbody>\n",
       "</table>\n",
       "<p>856 rows × 3 columns</p>\n",
       "</div>"
      ],
      "text/plain": [
       "              city ad_type    revenue\n",
       "46        Anderson  banner   0.000031\n",
       "2076      Waukesha  banner   0.000045\n",
       "640    Federal Way  banner   0.000055\n",
       "831       Hartford  banner   0.000085\n",
       "1912  Strongsville  banner   0.000086\n",
       "...            ...     ...        ...\n",
       "1289   Minneapolis  banner   7.629354\n",
       "893        Houston  banner   8.664916\n",
       "1886       Spokane  banner   8.862484\n",
       "922   Indianapolis  banner   9.789215\n",
       "1398      New York  banner  12.708617\n",
       "\n",
       "[856 rows x 3 columns]"
      ]
     },
     "execution_count": 74,
     "metadata": {},
     "output_type": "execute_result"
    }
   ],
   "source": [
    "revenue_city_banner.sort_values('revenue')\n",
    "# revenue в диапазоне от 0.000031 до 12.708617\n",
    "# округлим до одного знака после запятой для группировки городов по revenue"
   ]
  },
  {
   "cell_type": "code",
   "execution_count": 75,
   "metadata": {},
   "outputs": [],
   "source": [
    "revenue_city_banner.revenue = revenue_city_banner.revenue.round(1)"
   ]
  },
  {
   "cell_type": "code",
   "execution_count": 76,
   "metadata": {},
   "outputs": [],
   "source": [
    "revenue_city_banner = revenue_city_banner.groupby('revenue', as_index=False).agg({'city': [set, 'count']}) \\\n",
    ".sort_values('revenue', ascending=False).head(10)\n",
    "# возьмем топ-10"
   ]
  },
  {
   "cell_type": "code",
   "execution_count": 78,
   "metadata": {},
   "outputs": [],
   "source": [
    "revenue_city_banner.columns = revenue_city_banner.columns.map(''.join)\n",
    "revenue_city_banner = revenue_city_banner.rename(columns=({'cityset': 'city', 'citycount': 'count_city'}))\n",
    "revenue_city_banner['city'] = revenue_city_banner['city'].apply(lambda x: ', '.join(x))"
   ]
  },
  {
   "cell_type": "code",
   "execution_count": 79,
   "metadata": {},
   "outputs": [
    {
     "data": {
      "text/html": [
       "<div>\n",
       "<style scoped>\n",
       "    .dataframe tbody tr th:only-of-type {\n",
       "        vertical-align: middle;\n",
       "    }\n",
       "\n",
       "    .dataframe tbody tr th {\n",
       "        vertical-align: top;\n",
       "    }\n",
       "\n",
       "    .dataframe thead th {\n",
       "        text-align: right;\n",
       "    }\n",
       "</style>\n",
       "<table border=\"1\" class=\"dataframe\">\n",
       "  <thead>\n",
       "    <tr style=\"text-align: right;\">\n",
       "      <th></th>\n",
       "      <th>revenue</th>\n",
       "      <th>city</th>\n",
       "      <th>count_city</th>\n",
       "    </tr>\n",
       "  </thead>\n",
       "  <tbody>\n",
       "    <tr>\n",
       "      <th>44</th>\n",
       "      <td>12.7</td>\n",
       "      <td>New York</td>\n",
       "      <td>1</td>\n",
       "    </tr>\n",
       "    <tr>\n",
       "      <th>43</th>\n",
       "      <td>9.8</td>\n",
       "      <td>Indianapolis</td>\n",
       "      <td>1</td>\n",
       "    </tr>\n",
       "    <tr>\n",
       "      <th>42</th>\n",
       "      <td>8.9</td>\n",
       "      <td>Spokane</td>\n",
       "      <td>1</td>\n",
       "    </tr>\n",
       "    <tr>\n",
       "      <th>41</th>\n",
       "      <td>8.7</td>\n",
       "      <td>Houston</td>\n",
       "      <td>1</td>\n",
       "    </tr>\n",
       "    <tr>\n",
       "      <th>40</th>\n",
       "      <td>7.6</td>\n",
       "      <td>Cleveland, Minneapolis</td>\n",
       "      <td>2</td>\n",
       "    </tr>\n",
       "    <tr>\n",
       "      <th>39</th>\n",
       "      <td>6.9</td>\n",
       "      <td>Charlotte</td>\n",
       "      <td>1</td>\n",
       "    </tr>\n",
       "    <tr>\n",
       "      <th>38</th>\n",
       "      <td>5.8</td>\n",
       "      <td>Gardena</td>\n",
       "      <td>1</td>\n",
       "    </tr>\n",
       "    <tr>\n",
       "      <th>37</th>\n",
       "      <td>5.6</td>\n",
       "      <td>Kansas City, Dallas</td>\n",
       "      <td>2</td>\n",
       "    </tr>\n",
       "    <tr>\n",
       "      <th>36</th>\n",
       "      <td>4.9</td>\n",
       "      <td>Springfield</td>\n",
       "      <td>1</td>\n",
       "    </tr>\n",
       "    <tr>\n",
       "      <th>35</th>\n",
       "      <td>4.6</td>\n",
       "      <td>Tampa, Chicago, Columbus</td>\n",
       "      <td>3</td>\n",
       "    </tr>\n",
       "  </tbody>\n",
       "</table>\n",
       "</div>"
      ],
      "text/plain": [
       "    revenue                      city  count_city\n",
       "44     12.7                  New York           1\n",
       "43      9.8              Indianapolis           1\n",
       "42      8.9                   Spokane           1\n",
       "41      8.7                   Houston           1\n",
       "40      7.6    Cleveland, Minneapolis           2\n",
       "39      6.9                 Charlotte           1\n",
       "38      5.8                   Gardena           1\n",
       "37      5.6       Kansas City, Dallas           2\n",
       "36      4.9               Springfield           1\n",
       "35      4.6  Tampa, Chicago, Columbus           3"
      ]
     },
     "execution_count": 79,
     "metadata": {},
     "output_type": "execute_result"
    }
   ],
   "source": [
    "revenue_city_banner"
   ]
  },
  {
   "cell_type": "code",
   "execution_count": 81,
   "metadata": {},
   "outputs": [
    {
     "data": {
      "text/html": [
       "<div>\n",
       "<style scoped>\n",
       "    .dataframe tbody tr th:only-of-type {\n",
       "        vertical-align: middle;\n",
       "    }\n",
       "\n",
       "    .dataframe tbody tr th {\n",
       "        vertical-align: top;\n",
       "    }\n",
       "\n",
       "    .dataframe thead th {\n",
       "        text-align: right;\n",
       "    }\n",
       "</style>\n",
       "<table border=\"1\" class=\"dataframe\">\n",
       "  <thead>\n",
       "    <tr style=\"text-align: right;\">\n",
       "      <th></th>\n",
       "      <th>city</th>\n",
       "      <th>ad_type</th>\n",
       "      <th>revenue</th>\n",
       "    </tr>\n",
       "  </thead>\n",
       "  <tbody>\n",
       "    <tr>\n",
       "      <th>332</th>\n",
       "      <td>Chantilly</td>\n",
       "      <td>int</td>\n",
       "      <td>0.002891</td>\n",
       "    </tr>\n",
       "    <tr>\n",
       "      <th>1460</th>\n",
       "      <td>Ocala</td>\n",
       "      <td>int</td>\n",
       "      <td>0.002927</td>\n",
       "    </tr>\n",
       "    <tr>\n",
       "      <th>641</th>\n",
       "      <td>Federal Way</td>\n",
       "      <td>int</td>\n",
       "      <td>0.005540</td>\n",
       "    </tr>\n",
       "    <tr>\n",
       "      <th>944</th>\n",
       "      <td>Jacksonville Beach</td>\n",
       "      <td>int</td>\n",
       "      <td>0.007987</td>\n",
       "    </tr>\n",
       "    <tr>\n",
       "      <th>872</th>\n",
       "      <td>Hoffman Estates</td>\n",
       "      <td>int</td>\n",
       "      <td>0.008474</td>\n",
       "    </tr>\n",
       "    <tr>\n",
       "      <th>...</th>\n",
       "      <td>...</td>\n",
       "      <td>...</td>\n",
       "      <td>...</td>\n",
       "    </tr>\n",
       "    <tr>\n",
       "      <th>337</th>\n",
       "      <td>Charlotte</td>\n",
       "      <td>int</td>\n",
       "      <td>14.940739</td>\n",
       "    </tr>\n",
       "    <tr>\n",
       "      <th>1290</th>\n",
       "      <td>Minneapolis</td>\n",
       "      <td>int</td>\n",
       "      <td>17.286339</td>\n",
       "    </tr>\n",
       "    <tr>\n",
       "      <th>390</th>\n",
       "      <td>Cleveland</td>\n",
       "      <td>int</td>\n",
       "      <td>18.112861</td>\n",
       "    </tr>\n",
       "    <tr>\n",
       "      <th>923</th>\n",
       "      <td>Indianapolis</td>\n",
       "      <td>int</td>\n",
       "      <td>21.534431</td>\n",
       "    </tr>\n",
       "    <tr>\n",
       "      <th>1399</th>\n",
       "      <td>New York</td>\n",
       "      <td>int</td>\n",
       "      <td>25.674272</td>\n",
       "    </tr>\n",
       "  </tbody>\n",
       "</table>\n",
       "<p>869 rows × 3 columns</p>\n",
       "</div>"
      ],
      "text/plain": [
       "                    city ad_type    revenue\n",
       "332            Chantilly     int   0.002891\n",
       "1460               Ocala     int   0.002927\n",
       "641          Federal Way     int   0.005540\n",
       "944   Jacksonville Beach     int   0.007987\n",
       "872      Hoffman Estates     int   0.008474\n",
       "...                  ...     ...        ...\n",
       "337            Charlotte     int  14.940739\n",
       "1290         Minneapolis     int  17.286339\n",
       "390            Cleveland     int  18.112861\n",
       "923         Indianapolis     int  21.534431\n",
       "1399            New York     int  25.674272\n",
       "\n",
       "[869 rows x 3 columns]"
      ]
     },
     "execution_count": 81,
     "metadata": {},
     "output_type": "execute_result"
    }
   ],
   "source": [
    "revenue_city_int.sort_values('revenue')\n",
    "# revenue в диапазоне от 0.002891 до 25.674272\n",
    "# округлим до одного знака после запятой для группировки городов по revenue"
   ]
  },
  {
   "cell_type": "code",
   "execution_count": 82,
   "metadata": {},
   "outputs": [],
   "source": [
    "revenue_city_int.revenue = revenue_city_int.revenue.round(1)\n",
    "revenue_city_int = revenue_city_int.groupby('revenue', as_index=False).agg({'city': [set, 'count']}) \\\n",
    ".sort_values('revenue', ascending=False).head(10)\n",
    "# возьмем топ-10\n",
    "revenue_city_int.columns = revenue_city_int.columns.map(''.join)\n",
    "revenue_city_int = revenue_city_int.rename(columns=({'cityset': 'city', 'citycount': 'count_city'}))\n",
    "revenue_city_int['city'] = revenue_city_int['city'].apply(lambda x: ', '.join(x))"
   ]
  },
  {
   "cell_type": "code",
   "execution_count": 83,
   "metadata": {},
   "outputs": [
    {
     "data": {
      "text/html": [
       "<div>\n",
       "<style scoped>\n",
       "    .dataframe tbody tr th:only-of-type {\n",
       "        vertical-align: middle;\n",
       "    }\n",
       "\n",
       "    .dataframe tbody tr th {\n",
       "        vertical-align: top;\n",
       "    }\n",
       "\n",
       "    .dataframe thead th {\n",
       "        text-align: right;\n",
       "    }\n",
       "</style>\n",
       "<table border=\"1\" class=\"dataframe\">\n",
       "  <thead>\n",
       "    <tr style=\"text-align: right;\">\n",
       "      <th></th>\n",
       "      <th>revenue</th>\n",
       "      <th>city</th>\n",
       "      <th>count_city</th>\n",
       "    </tr>\n",
       "  </thead>\n",
       "  <tbody>\n",
       "    <tr>\n",
       "      <th>75</th>\n",
       "      <td>25.7</td>\n",
       "      <td>New York</td>\n",
       "      <td>1</td>\n",
       "    </tr>\n",
       "    <tr>\n",
       "      <th>74</th>\n",
       "      <td>21.5</td>\n",
       "      <td>Indianapolis</td>\n",
       "      <td>1</td>\n",
       "    </tr>\n",
       "    <tr>\n",
       "      <th>73</th>\n",
       "      <td>18.1</td>\n",
       "      <td>Cleveland</td>\n",
       "      <td>1</td>\n",
       "    </tr>\n",
       "    <tr>\n",
       "      <th>72</th>\n",
       "      <td>17.3</td>\n",
       "      <td>Minneapolis</td>\n",
       "      <td>1</td>\n",
       "    </tr>\n",
       "    <tr>\n",
       "      <th>71</th>\n",
       "      <td>14.9</td>\n",
       "      <td>Charlotte</td>\n",
       "      <td>1</td>\n",
       "    </tr>\n",
       "    <tr>\n",
       "      <th>70</th>\n",
       "      <td>14.5</td>\n",
       "      <td>Houston</td>\n",
       "      <td>1</td>\n",
       "    </tr>\n",
       "    <tr>\n",
       "      <th>69</th>\n",
       "      <td>12.4</td>\n",
       "      <td>Columbus</td>\n",
       "      <td>1</td>\n",
       "    </tr>\n",
       "    <tr>\n",
       "      <th>68</th>\n",
       "      <td>12.2</td>\n",
       "      <td>Los Angeles</td>\n",
       "      <td>1</td>\n",
       "    </tr>\n",
       "    <tr>\n",
       "      <th>67</th>\n",
       "      <td>10.2</td>\n",
       "      <td>Dallas</td>\n",
       "      <td>1</td>\n",
       "    </tr>\n",
       "    <tr>\n",
       "      <th>66</th>\n",
       "      <td>10.1</td>\n",
       "      <td>Denver, Cincinnati</td>\n",
       "      <td>2</td>\n",
       "    </tr>\n",
       "  </tbody>\n",
       "</table>\n",
       "</div>"
      ],
      "text/plain": [
       "    revenue                city  count_city\n",
       "75     25.7            New York           1\n",
       "74     21.5        Indianapolis           1\n",
       "73     18.1           Cleveland           1\n",
       "72     17.3         Minneapolis           1\n",
       "71     14.9           Charlotte           1\n",
       "70     14.5             Houston           1\n",
       "69     12.4            Columbus           1\n",
       "68     12.2         Los Angeles           1\n",
       "67     10.2              Dallas           1\n",
       "66     10.1  Denver, Cincinnati           2"
      ]
     },
     "execution_count": 83,
     "metadata": {},
     "output_type": "execute_result"
    }
   ],
   "source": [
    "revenue_city_int"
   ]
  },
  {
   "cell_type": "code",
   "execution_count": 85,
   "metadata": {},
   "outputs": [
    {
     "data": {
      "text/html": [
       "<div>\n",
       "<style scoped>\n",
       "    .dataframe tbody tr th:only-of-type {\n",
       "        vertical-align: middle;\n",
       "    }\n",
       "\n",
       "    .dataframe tbody tr th {\n",
       "        vertical-align: top;\n",
       "    }\n",
       "\n",
       "    .dataframe thead th {\n",
       "        text-align: right;\n",
       "    }\n",
       "</style>\n",
       "<table border=\"1\" class=\"dataframe\">\n",
       "  <thead>\n",
       "    <tr style=\"text-align: right;\">\n",
       "      <th></th>\n",
       "      <th>city</th>\n",
       "      <th>ad_type</th>\n",
       "      <th>revenue</th>\n",
       "    </tr>\n",
       "  </thead>\n",
       "  <tbody>\n",
       "    <tr>\n",
       "      <th>679</th>\n",
       "      <td>Fort Walton Beach</td>\n",
       "      <td>rv</td>\n",
       "      <td>0.004075</td>\n",
       "    </tr>\n",
       "    <tr>\n",
       "      <th>2009</th>\n",
       "      <td>Utica</td>\n",
       "      <td>rv</td>\n",
       "      <td>0.006679</td>\n",
       "    </tr>\n",
       "    <tr>\n",
       "      <th>2004</th>\n",
       "      <td>Uniontown</td>\n",
       "      <td>rv</td>\n",
       "      <td>0.009084</td>\n",
       "    </tr>\n",
       "    <tr>\n",
       "      <th>1645</th>\n",
       "      <td>Prescott Valley</td>\n",
       "      <td>rv</td>\n",
       "      <td>0.010761</td>\n",
       "    </tr>\n",
       "    <tr>\n",
       "      <th>400</th>\n",
       "      <td>Coeur d'Alene</td>\n",
       "      <td>rv</td>\n",
       "      <td>0.011530</td>\n",
       "    </tr>\n",
       "    <tr>\n",
       "      <th>...</th>\n",
       "      <td>...</td>\n",
       "      <td>...</td>\n",
       "      <td>...</td>\n",
       "    </tr>\n",
       "    <tr>\n",
       "      <th>391</th>\n",
       "      <td>Cleveland</td>\n",
       "      <td>rv</td>\n",
       "      <td>6.797868</td>\n",
       "    </tr>\n",
       "    <tr>\n",
       "      <th>1473</th>\n",
       "      <td>Oklahoma City</td>\n",
       "      <td>rv</td>\n",
       "      <td>8.045251</td>\n",
       "    </tr>\n",
       "    <tr>\n",
       "      <th>1400</th>\n",
       "      <td>New York</td>\n",
       "      <td>rv</td>\n",
       "      <td>9.071508</td>\n",
       "    </tr>\n",
       "    <tr>\n",
       "      <th>1291</th>\n",
       "      <td>Minneapolis</td>\n",
       "      <td>rv</td>\n",
       "      <td>9.319597</td>\n",
       "    </tr>\n",
       "    <tr>\n",
       "      <th>895</th>\n",
       "      <td>Houston</td>\n",
       "      <td>rv</td>\n",
       "      <td>11.389241</td>\n",
       "    </tr>\n",
       "  </tbody>\n",
       "</table>\n",
       "<p>454 rows × 3 columns</p>\n",
       "</div>"
      ],
      "text/plain": [
       "                   city ad_type    revenue\n",
       "679   Fort Walton Beach      rv   0.004075\n",
       "2009              Utica      rv   0.006679\n",
       "2004          Uniontown      rv   0.009084\n",
       "1645    Prescott Valley      rv   0.010761\n",
       "400       Coeur d'Alene      rv   0.011530\n",
       "...                 ...     ...        ...\n",
       "391           Cleveland      rv   6.797868\n",
       "1473      Oklahoma City      rv   8.045251\n",
       "1400           New York      rv   9.071508\n",
       "1291        Minneapolis      rv   9.319597\n",
       "895             Houston      rv  11.389241\n",
       "\n",
       "[454 rows x 3 columns]"
      ]
     },
     "execution_count": 85,
     "metadata": {},
     "output_type": "execute_result"
    }
   ],
   "source": [
    "revenue_city_rv.sort_values('revenue')\n",
    "# revenue в диапазоне от 0.004075 до 11.389241\n",
    "# округлим до одного знака после запятой для группировки городов по revenue"
   ]
  },
  {
   "cell_type": "code",
   "execution_count": 86,
   "metadata": {},
   "outputs": [],
   "source": [
    "revenue_city_rv.revenue = revenue_city_rv.revenue.round(1)\n",
    "revenue_city_rv = revenue_city_rv.groupby('revenue', as_index=False).agg({'city': [set, 'count']}) \\\n",
    ".sort_values('revenue', ascending=False).head(10)\n",
    "# возьмем топ-10\n",
    "revenue_city_rv.columns = revenue_city_rv.columns.map(''.join)\n",
    "revenue_city_rv = revenue_city_rv.rename(columns=({'cityset': 'city', 'citycount': 'count_city'}))\n",
    "revenue_city_rv['city'] = revenue_city_rv['city'].apply(lambda x: ', '.join(x))"
   ]
  },
  {
   "cell_type": "code",
   "execution_count": 87,
   "metadata": {},
   "outputs": [
    {
     "data": {
      "text/html": [
       "<div>\n",
       "<style scoped>\n",
       "    .dataframe tbody tr th:only-of-type {\n",
       "        vertical-align: middle;\n",
       "    }\n",
       "\n",
       "    .dataframe tbody tr th {\n",
       "        vertical-align: top;\n",
       "    }\n",
       "\n",
       "    .dataframe thead th {\n",
       "        text-align: right;\n",
       "    }\n",
       "</style>\n",
       "<table border=\"1\" class=\"dataframe\">\n",
       "  <thead>\n",
       "    <tr style=\"text-align: right;\">\n",
       "      <th></th>\n",
       "      <th>revenue</th>\n",
       "      <th>city</th>\n",
       "      <th>count_city</th>\n",
       "    </tr>\n",
       "  </thead>\n",
       "  <tbody>\n",
       "    <tr>\n",
       "      <th>40</th>\n",
       "      <td>11.4</td>\n",
       "      <td>Houston</td>\n",
       "      <td>1</td>\n",
       "    </tr>\n",
       "    <tr>\n",
       "      <th>39</th>\n",
       "      <td>9.3</td>\n",
       "      <td>Minneapolis</td>\n",
       "      <td>1</td>\n",
       "    </tr>\n",
       "    <tr>\n",
       "      <th>38</th>\n",
       "      <td>9.1</td>\n",
       "      <td>New York</td>\n",
       "      <td>1</td>\n",
       "    </tr>\n",
       "    <tr>\n",
       "      <th>37</th>\n",
       "      <td>8.0</td>\n",
       "      <td>Oklahoma City</td>\n",
       "      <td>1</td>\n",
       "    </tr>\n",
       "    <tr>\n",
       "      <th>36</th>\n",
       "      <td>6.8</td>\n",
       "      <td>Cleveland</td>\n",
       "      <td>1</td>\n",
       "    </tr>\n",
       "    <tr>\n",
       "      <th>35</th>\n",
       "      <td>5.8</td>\n",
       "      <td>Rocky Mount</td>\n",
       "      <td>1</td>\n",
       "    </tr>\n",
       "    <tr>\n",
       "      <th>34</th>\n",
       "      <td>5.4</td>\n",
       "      <td>Indianapolis</td>\n",
       "      <td>1</td>\n",
       "    </tr>\n",
       "    <tr>\n",
       "      <th>33</th>\n",
       "      <td>5.2</td>\n",
       "      <td>Rockford, Columbus</td>\n",
       "      <td>2</td>\n",
       "    </tr>\n",
       "    <tr>\n",
       "      <th>32</th>\n",
       "      <td>4.5</td>\n",
       "      <td>Cincinnati</td>\n",
       "      <td>1</td>\n",
       "    </tr>\n",
       "    <tr>\n",
       "      <th>31</th>\n",
       "      <td>4.2</td>\n",
       "      <td>Lee's Summit</td>\n",
       "      <td>1</td>\n",
       "    </tr>\n",
       "  </tbody>\n",
       "</table>\n",
       "</div>"
      ],
      "text/plain": [
       "    revenue                city  count_city\n",
       "40     11.4             Houston           1\n",
       "39      9.3         Minneapolis           1\n",
       "38      9.1            New York           1\n",
       "37      8.0       Oklahoma City           1\n",
       "36      6.8           Cleveland           1\n",
       "35      5.8         Rocky Mount           1\n",
       "34      5.4        Indianapolis           1\n",
       "33      5.2  Rockford, Columbus           2\n",
       "32      4.5          Cincinnati           1\n",
       "31      4.2        Lee's Summit           1"
      ]
     },
     "execution_count": 87,
     "metadata": {},
     "output_type": "execute_result"
    }
   ],
   "source": [
    "revenue_city_rv"
   ]
  },
  {
   "cell_type": "code",
   "execution_count": 88,
   "metadata": {},
   "outputs": [
    {
     "data": {
      "image/png": "[encoded data removed]",
      "text/plain": [
       "<Figure size 1080x720 with 3 Axes>"
      ]
     },
     "metadata": {},
     "output_type": "display_data"
    }
   ],
   "source": [
    "plt.figure(figsize=(15,10))\n",
    "\n",
    "plt.subplot(2, 2, 2)\n",
    "sns.barplot(x='revenue', y='city', data=revenue_city_banner).set(ylabel=None, xlabel=None)\n",
    "plt.title(\"для формата рекламы banner\")\n",
    "\n",
    "\n",
    "plt.subplot(2, 2, 3)\n",
    "sns.barplot(x='revenue', y='city', data=revenue_city_int).set(ylabel=None)\n",
    "plt.title(\"для формата рекламы int\")\n",
    "\n",
    "plt.subplot(2, 2, 4)\n",
    "sns.barplot(x='revenue', y='city', data=revenue_city_rv).set(ylabel=None)\n",
    "plt.title(\"для формата рекламы rv\")\n",
    "\n",
    "plt.suptitle(\"Топ городов по доходам\", size = 15)\n",
    "\n",
    "plt.show()"
   ]
  },
  {
   "cell_type": "markdown",
   "metadata": {},
   "source": [
    "В данном случае самыми доходными городами для всех видов рекламы являются New York, Indianapolis, Houston, Cleveland, Minneapolis, Columbus. Посмотрим топ городов по численности пользователей:"
   ]
  },
  {
   "cell_type": "code",
   "execution_count": 94,
   "metadata": {},
   "outputs": [
    {
     "data": {
      "text/html": [
       "<div>\n",
       "<style scoped>\n",
       "    .dataframe tbody tr th:only-of-type {\n",
       "        vertical-align: middle;\n",
       "    }\n",
       "\n",
       "    .dataframe tbody tr th {\n",
       "        vertical-align: top;\n",
       "    }\n",
       "\n",
       "    .dataframe thead th {\n",
       "        text-align: right;\n",
       "    }\n",
       "</style>\n",
       "<table border=\"1\" class=\"dataframe\">\n",
       "  <thead>\n",
       "    <tr style=\"text-align: right;\">\n",
       "      <th></th>\n",
       "      <th>city</th>\n",
       "      <th>profile_id</th>\n",
       "    </tr>\n",
       "  </thead>\n",
       "  <tbody>\n",
       "    <tr>\n",
       "      <th>585</th>\n",
       "      <td>New York</td>\n",
       "      <td>17584</td>\n",
       "    </tr>\n",
       "    <tr>\n",
       "      <th>540</th>\n",
       "      <td>Minneapolis</td>\n",
       "      <td>12980</td>\n",
       "    </tr>\n",
       "    <tr>\n",
       "      <th>377</th>\n",
       "      <td>Houston</td>\n",
       "      <td>10137</td>\n",
       "    </tr>\n",
       "    <tr>\n",
       "      <th>796</th>\n",
       "      <td>Springfield</td>\n",
       "      <td>10135</td>\n",
       "    </tr>\n",
       "    <tr>\n",
       "      <th>140</th>\n",
       "      <td>Charlotte</td>\n",
       "      <td>9750</td>\n",
       "    </tr>\n",
       "    <tr>\n",
       "      <th>147</th>\n",
       "      <td>Chicago</td>\n",
       "      <td>8697</td>\n",
       "    </tr>\n",
       "    <tr>\n",
       "      <th>745</th>\n",
       "      <td>San Antonio</td>\n",
       "      <td>7912</td>\n",
       "    </tr>\n",
       "    <tr>\n",
       "      <th>388</th>\n",
       "      <td>Indianapolis</td>\n",
       "      <td>7126</td>\n",
       "    </tr>\n",
       "    <tr>\n",
       "      <th>413</th>\n",
       "      <td>Kansas City</td>\n",
       "      <td>7038</td>\n",
       "    </tr>\n",
       "    <tr>\n",
       "      <th>301</th>\n",
       "      <td>Gallatin</td>\n",
       "      <td>6573</td>\n",
       "    </tr>\n",
       "  </tbody>\n",
       "</table>\n",
       "</div>"
      ],
      "text/plain": [
       "             city  profile_id\n",
       "585      New York       17584\n",
       "540   Minneapolis       12980\n",
       "377       Houston       10137\n",
       "796   Springfield       10135\n",
       "140     Charlotte        9750\n",
       "147       Chicago        8697\n",
       "745   San Antonio        7912\n",
       "388  Indianapolis        7126\n",
       "413   Kansas City        7038\n",
       "301      Gallatin        6573"
      ]
     },
     "execution_count": 94,
     "metadata": {},
     "output_type": "execute_result"
    }
   ],
   "source": [
    "df.groupby('city', as_index=False).agg({'profile_id': 'count'}).sort_values('profile_id', ascending=False).head(10)"
   ]
  },
  {
   "cell_type": "markdown",
   "metadata": {},
   "source": [
    "Видно, что есть взаимосвязь между количеством пользователей в городах и полученным доходом от рекламы, за исключением двух городов - San Antonio и Gallatin. Они не входят в топ городов по прибыли ни от одного вида рекламы."
   ]
  },
  {
   "cell_type": "code",
   "execution_count": 89,
   "metadata": {},
   "outputs": [],
   "source": [
    "revenue_os_version_banner = df.groupby(['os_version', 'ad_type'], as_index=False).agg({'revenue': 'sum'}).query('ad_type==\"banner\"')\n",
    "revenue_os_version_int = df.groupby(['os_version', 'ad_type'], as_index=False).agg({'revenue': 'sum'}).query('ad_type==\"int\"')\n",
    "revenue_os_version_rv = df.groupby(['os_version', 'ad_type'], as_index=False).agg({'revenue': 'sum'}).query('ad_type==\"rv\"')"
   ]
  },
  {
   "cell_type": "code",
   "execution_count": 90,
   "metadata": {},
   "outputs": [
    {
     "data": {
      "image/png": "[encoded data removed]",
      "text/plain": [
       "<Figure size 1440x360 with 3 Axes>"
      ]
     },
     "metadata": {},
     "output_type": "display_data"
    }
   ],
   "source": [
    "plt.figure(figsize=(20,5))\n",
    "\n",
    "plt.subplot(1, 3, 1)\n",
    "sns.barplot(x='os_version', y='revenue', data=revenue_os_version_banner.sort_values(by='os_version', key=natsort_keygen()))\n",
    "plt.title(\"для формата рекламы banner\")\n",
    "\n",
    "\n",
    "plt.subplot(1, 3, 2)\n",
    "sns.barplot(x='os_version', y='revenue', data=revenue_os_version_int.sort_values(by='os_version', key=natsort_keygen()))\n",
    "plt.title(\"для формата рекламы int\")\n",
    "\n",
    "plt.subplot(1, 3, 3)\n",
    "sns.barplot(x='os_version', y='revenue', data=revenue_os_version_rv.sort_values(by='os_version', key=natsort_keygen()))\n",
    "plt.title(\"для формата рекламы rv\")\n",
    "\n",
    "plt.suptitle(\"Распределение доходов по версиям\", size = 15, y = 1)\n",
    "\n",
    "plt.show()"
   ]
  },
  {
   "cell_type": "markdown",
   "metadata": {},
   "source": [
    "Можно заметить, что чем новее версия ОС у пользователя, тем больше доход мы получим, возможно это связано с тем, чтот людей со старыми версиями ОС просто меньше. Проверим это предположение:"
   ]
  },
  {
   "cell_type": "code",
   "execution_count": 88,
   "metadata": {},
   "outputs": [
    {
     "data": {
      "text/plain": [
       "12       0.473895\n",
       "11       0.243083\n",
       "10       0.175415\n",
       "9        0.077507\n",
       "8.1.0    0.010754\n",
       "8.0.0    0.009320\n",
       "7.0      0.004717\n",
       "7.1.2    0.002106\n",
       "7.1.1    0.001560\n",
       "5.0.2    0.000824\n",
       "6.0.1    0.000819\n",
       "Name: os_version, dtype: float64"
      ]
     },
     "execution_count": 88,
     "metadata": {},
     "output_type": "execute_result"
    }
   ],
   "source": [
    "df['os_version'].value_counts(normalize=True)"
   ]
  },
  {
   "cell_type": "markdown",
   "metadata": {},
   "source": [
    "Действительно, почти у половины пользователей 12 версия ОС, далее идут версии 11, 10, 9 и т.д."
   ]
  },
  {
   "cell_type": "markdown",
   "metadata": {},
   "source": [
    "Можно более детально посмотреть на доходы в таблице:"
   ]
  },
  {
   "cell_type": "code",
   "execution_count": 91,
   "metadata": {},
   "outputs": [],
   "source": [
    "revenue_os_version = df.groupby(['ad_type', 'os_version'], as_index=False) \\\n",
    "    .agg({'revenue': 'sum'}) \\\n",
    "    .pivot_table(columns='os_version', index='ad_type', values='revenue') \\\n",
    "    .sort_values(by='os_version', key=natsort_keygen(), axis=1)"
   ]
  },
  {
   "cell_type": "code",
   "execution_count": 92,
   "metadata": {},
   "outputs": [
    {
     "data": {
      "text/html": [
       "<div>\n",
       "<style scoped>\n",
       "    .dataframe tbody tr th:only-of-type {\n",
       "        vertical-align: middle;\n",
       "    }\n",
       "\n",
       "    .dataframe tbody tr th {\n",
       "        vertical-align: top;\n",
       "    }\n",
       "\n",
       "    .dataframe thead th {\n",
       "        text-align: right;\n",
       "    }\n",
       "</style>\n",
       "<table border=\"1\" class=\"dataframe\">\n",
       "  <thead>\n",
       "    <tr style=\"text-align: right;\">\n",
       "      <th>os_version</th>\n",
       "      <th>5.0.2</th>\n",
       "      <th>6.0.1</th>\n",
       "      <th>7.0</th>\n",
       "      <th>7.1.1</th>\n",
       "      <th>7.1.2</th>\n",
       "      <th>8.0.0</th>\n",
       "      <th>8.1.0</th>\n",
       "      <th>9</th>\n",
       "      <th>10</th>\n",
       "      <th>11</th>\n",
       "      <th>12</th>\n",
       "    </tr>\n",
       "    <tr>\n",
       "      <th>ad_type</th>\n",
       "      <th></th>\n",
       "      <th></th>\n",
       "      <th></th>\n",
       "      <th></th>\n",
       "      <th></th>\n",
       "      <th></th>\n",
       "      <th></th>\n",
       "      <th></th>\n",
       "      <th></th>\n",
       "      <th></th>\n",
       "      <th></th>\n",
       "    </tr>\n",
       "  </thead>\n",
       "  <tbody>\n",
       "    <tr>\n",
       "      <th>banner</th>\n",
       "      <td>0.135827</td>\n",
       "      <td>0.166939</td>\n",
       "      <td>1.065803</td>\n",
       "      <td>0.300135</td>\n",
       "      <td>0.252216</td>\n",
       "      <td>2.804952</td>\n",
       "      <td>2.847789</td>\n",
       "      <td>34.820249</td>\n",
       "      <td>85.002788</td>\n",
       "      <td>116.298348</td>\n",
       "      <td>363.488994</td>\n",
       "    </tr>\n",
       "    <tr>\n",
       "      <th>int</th>\n",
       "      <td>0.329325</td>\n",
       "      <td>0.579568</td>\n",
       "      <td>7.813966</td>\n",
       "      <td>1.203363</td>\n",
       "      <td>0.837482</td>\n",
       "      <td>6.770185</td>\n",
       "      <td>6.016151</td>\n",
       "      <td>78.475755</td>\n",
       "      <td>191.795052</td>\n",
       "      <td>363.634932</td>\n",
       "      <td>704.497187</td>\n",
       "    </tr>\n",
       "    <tr>\n",
       "      <th>rv</th>\n",
       "      <td>0.028377</td>\n",
       "      <td>0.036764</td>\n",
       "      <td>2.071224</td>\n",
       "      <td>0.121076</td>\n",
       "      <td>NaN</td>\n",
       "      <td>2.316879</td>\n",
       "      <td>0.923077</td>\n",
       "      <td>19.809863</td>\n",
       "      <td>51.470091</td>\n",
       "      <td>107.291533</td>\n",
       "      <td>237.592767</td>\n",
       "    </tr>\n",
       "  </tbody>\n",
       "</table>\n",
       "</div>"
      ],
      "text/plain": [
       "os_version     5.0.2     6.0.1       7.0     7.1.1     7.1.2     8.0.0  \\\n",
       "ad_type                                                                  \n",
       "banner      0.135827  0.166939  1.065803  0.300135  0.252216  2.804952   \n",
       "int         0.329325  0.579568  7.813966  1.203363  0.837482  6.770185   \n",
       "rv          0.028377  0.036764  2.071224  0.121076       NaN  2.316879   \n",
       "\n",
       "os_version     8.1.0          9          10          11          12  \n",
       "ad_type                                                              \n",
       "banner      2.847789  34.820249   85.002788  116.298348  363.488994  \n",
       "int         6.016151  78.475755  191.795052  363.634932  704.497187  \n",
       "rv          0.923077  19.809863   51.470091  107.291533  237.592767  "
      ]
     },
     "execution_count": 92,
     "metadata": {},
     "output_type": "execute_result"
    }
   ],
   "source": [
    "revenue_os_version"
   ]
  },
  {
   "cell_type": "markdown",
   "metadata": {
    "id": "buCvR3D2M7-v"
   },
   "source": [
    "# Какой процент доходов содержит информацию о городе юзера "
   ]
  },
  {
   "cell_type": "code",
   "execution_count": 96,
   "metadata": {
    "id": "bl3guAL0LkEL"
   },
   "outputs": [],
   "source": [
    "df_revenue_city = df[['revenue', 'city']]"
   ]
  },
  {
   "cell_type": "code",
   "execution_count": 97,
   "metadata": {
    "colab": {
     "base_uri": "https://localhost:8080/",
     "height": 206
    },
    "executionInfo": {
     "elapsed": 657,
     "status": "ok",
     "timestamp": 1655310708661,
     "user": {
      "displayName": "мое имя",
      "userId": "04682591971747797754"
     },
     "user_tz": -300
    },
    "id": "dz44qd3gM-ZN",
    "outputId": "99dd41d5-51f0-4604-db8e-ecf5ceb4613a"
   },
   "outputs": [
    {
     "data": {
      "text/html": [
       "<div>\n",
       "<style scoped>\n",
       "    .dataframe tbody tr th:only-of-type {\n",
       "        vertical-align: middle;\n",
       "    }\n",
       "\n",
       "    .dataframe tbody tr th {\n",
       "        vertical-align: top;\n",
       "    }\n",
       "\n",
       "    .dataframe thead th {\n",
       "        text-align: right;\n",
       "    }\n",
       "</style>\n",
       "<table border=\"1\" class=\"dataframe\">\n",
       "  <thead>\n",
       "    <tr style=\"text-align: right;\">\n",
       "      <th></th>\n",
       "      <th>revenue</th>\n",
       "      <th>city</th>\n",
       "    </tr>\n",
       "  </thead>\n",
       "  <tbody>\n",
       "    <tr>\n",
       "      <th>0</th>\n",
       "      <td>0.000510</td>\n",
       "      <td>Norwalk</td>\n",
       "    </tr>\n",
       "    <tr>\n",
       "      <th>1</th>\n",
       "      <td>0.000510</td>\n",
       "      <td>Norwalk</td>\n",
       "    </tr>\n",
       "    <tr>\n",
       "      <th>2</th>\n",
       "      <td>0.002386</td>\n",
       "      <td>Charlotte</td>\n",
       "    </tr>\n",
       "    <tr>\n",
       "      <th>3</th>\n",
       "      <td>0.013894</td>\n",
       "      <td>Cocoa</td>\n",
       "    </tr>\n",
       "    <tr>\n",
       "      <th>4</th>\n",
       "      <td>0.006828</td>\n",
       "      <td>NaN</td>\n",
       "    </tr>\n",
       "  </tbody>\n",
       "</table>\n",
       "</div>"
      ],
      "text/plain": [
       "    revenue       city\n",
       "0  0.000510    Norwalk\n",
       "1  0.000510    Norwalk\n",
       "2  0.002386  Charlotte\n",
       "3  0.013894      Cocoa\n",
       "4  0.006828        NaN"
      ]
     },
     "execution_count": 97,
     "metadata": {},
     "output_type": "execute_result"
    }
   ],
   "source": [
    "df_revenue_city.head()"
   ]
  },
  {
   "cell_type": "code",
   "execution_count": 98,
   "metadata": {
    "colab": {
     "base_uri": "https://localhost:8080/"
    },
    "executionInfo": {
     "elapsed": 938,
     "status": "ok",
     "timestamp": 1655310894856,
     "user": {
      "displayName": "мое имя",
      "userId": "04682591971747797754"
     },
     "user_tz": -300
    },
    "id": "j0CPwQRVNNtx",
    "outputId": "47c4ceee-cdbf-4df7-b8ad-f179961882c4"
   },
   "outputs": [
    {
     "name": "stdout",
     "output_type": "stream",
     "text": [
      "В данных 62.36% юзеров содержат информацию о городе\n"
     ]
    }
   ],
   "source": [
    "print(f'В данных {round(df_revenue_city[\"city\"].count() * 100 / df_revenue_city[\"revenue\"].count(), 2)}% юзеров содержат информацию о городе')"
   ]
  },
  {
   "cell_type": "markdown",
   "metadata": {
    "id": "5gTMOh2zOBCe"
   },
   "source": [
    "# Зависимость eCPM от времени дня"
   ]
  },
  {
   "cell_type": "code",
   "execution_count": 100,
   "metadata": {
    "id": "pcFoMzyNNctB"
   },
   "outputs": [
    {
     "data": {
      "text/html": [
       "<div>\n",
       "<style scoped>\n",
       "    .dataframe tbody tr th:only-of-type {\n",
       "        vertical-align: middle;\n",
       "    }\n",
       "\n",
       "    .dataframe tbody tr th {\n",
       "        vertical-align: top;\n",
       "    }\n",
       "\n",
       "    .dataframe thead th {\n",
       "        text-align: right;\n",
       "    }\n",
       "</style>\n",
       "<table border=\"1\" class=\"dataframe\">\n",
       "  <thead>\n",
       "    <tr style=\"text-align: right;\">\n",
       "      <th></th>\n",
       "      <th>event_datetime</th>\n",
       "      <th>eCPM</th>\n",
       "    </tr>\n",
       "  </thead>\n",
       "  <tbody>\n",
       "    <tr>\n",
       "      <th>0</th>\n",
       "      <td>2022-02-04 20:02:28</td>\n",
       "      <td>0.510313</td>\n",
       "    </tr>\n",
       "    <tr>\n",
       "      <th>1</th>\n",
       "      <td>2022-02-04 20:02:45</td>\n",
       "      <td>0.510313</td>\n",
       "    </tr>\n",
       "    <tr>\n",
       "      <th>2</th>\n",
       "      <td>2022-02-05 17:53:05</td>\n",
       "      <td>2.386163</td>\n",
       "    </tr>\n",
       "    <tr>\n",
       "      <th>3</th>\n",
       "      <td>2022-02-06 17:09:01</td>\n",
       "      <td>13.893784</td>\n",
       "    </tr>\n",
       "    <tr>\n",
       "      <th>4</th>\n",
       "      <td>2022-02-06 17:15:38</td>\n",
       "      <td>6.827570</td>\n",
       "    </tr>\n",
       "    <tr>\n",
       "      <th>...</th>\n",
       "      <td>...</td>\n",
       "      <td>...</td>\n",
       "    </tr>\n",
       "    <tr>\n",
       "      <th>860074</th>\n",
       "      <td>2022-02-03 08:29:27</td>\n",
       "      <td>0.019972</td>\n",
       "    </tr>\n",
       "    <tr>\n",
       "      <th>860075</th>\n",
       "      <td>2022-02-03 02:12:51</td>\n",
       "      <td>6.740355</td>\n",
       "    </tr>\n",
       "    <tr>\n",
       "      <th>860076</th>\n",
       "      <td>2022-02-03 02:13:06</td>\n",
       "      <td>2.780058</td>\n",
       "    </tr>\n",
       "    <tr>\n",
       "      <th>860077</th>\n",
       "      <td>2022-02-03 02:13:17</td>\n",
       "      <td>2.780058</td>\n",
       "    </tr>\n",
       "    <tr>\n",
       "      <th>860078</th>\n",
       "      <td>2022-02-03 03:11:44</td>\n",
       "      <td>2.780058</td>\n",
       "    </tr>\n",
       "  </tbody>\n",
       "</table>\n",
       "<p>860079 rows × 2 columns</p>\n",
       "</div>"
      ],
      "text/plain": [
       "             event_datetime       eCPM\n",
       "0       2022-02-04 20:02:28   0.510313\n",
       "1       2022-02-04 20:02:45   0.510313\n",
       "2       2022-02-05 17:53:05   2.386163\n",
       "3       2022-02-06 17:09:01  13.893784\n",
       "4       2022-02-06 17:15:38   6.827570\n",
       "...                     ...        ...\n",
       "860074  2022-02-03 08:29:27   0.019972\n",
       "860075  2022-02-03 02:12:51   6.740355\n",
       "860076  2022-02-03 02:13:06   2.780058\n",
       "860077  2022-02-03 02:13:17   2.780058\n",
       "860078  2022-02-03 03:11:44   2.780058\n",
       "\n",
       "[860079 rows x 2 columns]"
      ]
     },
     "execution_count": 100,
     "metadata": {},
     "output_type": "execute_result"
    }
   ],
   "source": [
    "df[['event_datetime', 'eCPM']]"
   ]
  },
  {
   "cell_type": "code",
   "execution_count": 83,
   "metadata": {},
   "outputs": [],
   "source": [
    "df['event_datetime'] = df['event_datetime'].astype('datetime64[ns]')"
   ]
  },
  {
   "cell_type": "code",
   "execution_count": 84,
   "metadata": {},
   "outputs": [],
   "source": [
    "df['hour'] = df['event_datetime'].dt.hour"
   ]
  },
  {
   "cell_type": "code",
   "execution_count": 85,
   "metadata": {},
   "outputs": [
    {
     "data": {
      "text/html": [
       "<div>\n",
       "<style scoped>\n",
       "    .dataframe tbody tr th:only-of-type {\n",
       "        vertical-align: middle;\n",
       "    }\n",
       "\n",
       "    .dataframe tbody tr th {\n",
       "        vertical-align: top;\n",
       "    }\n",
       "\n",
       "    .dataframe thead th {\n",
       "        text-align: right;\n",
       "    }\n",
       "</style>\n",
       "<table border=\"1\" class=\"dataframe\">\n",
       "  <thead>\n",
       "    <tr style=\"text-align: right;\">\n",
       "      <th></th>\n",
       "      <th>hour</th>\n",
       "      <th>eCPM</th>\n",
       "    </tr>\n",
       "  </thead>\n",
       "  <tbody>\n",
       "    <tr>\n",
       "      <th>0</th>\n",
       "      <td>0</td>\n",
       "      <td>117705.904481</td>\n",
       "    </tr>\n",
       "    <tr>\n",
       "      <th>1</th>\n",
       "      <td>1</td>\n",
       "      <td>128034.735195</td>\n",
       "    </tr>\n",
       "    <tr>\n",
       "      <th>2</th>\n",
       "      <td>2</td>\n",
       "      <td>131879.539167</td>\n",
       "    </tr>\n",
       "    <tr>\n",
       "      <th>3</th>\n",
       "      <td>3</td>\n",
       "      <td>149982.929456</td>\n",
       "    </tr>\n",
       "    <tr>\n",
       "      <th>4</th>\n",
       "      <td>4</td>\n",
       "      <td>153757.931711</td>\n",
       "    </tr>\n",
       "    <tr>\n",
       "      <th>5</th>\n",
       "      <td>5</td>\n",
       "      <td>181512.266823</td>\n",
       "    </tr>\n",
       "    <tr>\n",
       "      <th>6</th>\n",
       "      <td>6</td>\n",
       "      <td>166879.606086</td>\n",
       "    </tr>\n",
       "    <tr>\n",
       "      <th>7</th>\n",
       "      <td>7</td>\n",
       "      <td>143969.092958</td>\n",
       "    </tr>\n",
       "    <tr>\n",
       "      <th>8</th>\n",
       "      <td>8</td>\n",
       "      <td>118754.133004</td>\n",
       "    </tr>\n",
       "    <tr>\n",
       "      <th>9</th>\n",
       "      <td>9</td>\n",
       "      <td>93507.347865</td>\n",
       "    </tr>\n",
       "    <tr>\n",
       "      <th>10</th>\n",
       "      <td>10</td>\n",
       "      <td>52962.141474</td>\n",
       "    </tr>\n",
       "    <tr>\n",
       "      <th>11</th>\n",
       "      <td>11</td>\n",
       "      <td>39701.748735</td>\n",
       "    </tr>\n",
       "    <tr>\n",
       "      <th>12</th>\n",
       "      <td>12</td>\n",
       "      <td>30093.953915</td>\n",
       "    </tr>\n",
       "    <tr>\n",
       "      <th>13</th>\n",
       "      <td>13</td>\n",
       "      <td>26815.002073</td>\n",
       "    </tr>\n",
       "    <tr>\n",
       "      <th>14</th>\n",
       "      <td>14</td>\n",
       "      <td>27630.332309</td>\n",
       "    </tr>\n",
       "    <tr>\n",
       "      <th>15</th>\n",
       "      <td>15</td>\n",
       "      <td>33714.323175</td>\n",
       "    </tr>\n",
       "    <tr>\n",
       "      <th>16</th>\n",
       "      <td>16</td>\n",
       "      <td>57859.298233</td>\n",
       "    </tr>\n",
       "    <tr>\n",
       "      <th>17</th>\n",
       "      <td>17</td>\n",
       "      <td>95413.475437</td>\n",
       "    </tr>\n",
       "    <tr>\n",
       "      <th>18</th>\n",
       "      <td>18</td>\n",
       "      <td>102209.712554</td>\n",
       "    </tr>\n",
       "    <tr>\n",
       "      <th>19</th>\n",
       "      <td>19</td>\n",
       "      <td>109711.754529</td>\n",
       "    </tr>\n",
       "    <tr>\n",
       "      <th>20</th>\n",
       "      <td>20</td>\n",
       "      <td>101792.799643</td>\n",
       "    </tr>\n",
       "    <tr>\n",
       "      <th>21</th>\n",
       "      <td>21</td>\n",
       "      <td>105184.842268</td>\n",
       "    </tr>\n",
       "    <tr>\n",
       "      <th>22</th>\n",
       "      <td>22</td>\n",
       "      <td>106508.101882</td>\n",
       "    </tr>\n",
       "    <tr>\n",
       "      <th>23</th>\n",
       "      <td>23</td>\n",
       "      <td>115217.687369</td>\n",
       "    </tr>\n",
       "  </tbody>\n",
       "</table>\n",
       "</div>"
      ],
      "text/plain": [
       "    hour           eCPM\n",
       "0      0  117705.904481\n",
       "1      1  128034.735195\n",
       "2      2  131879.539167\n",
       "3      3  149982.929456\n",
       "4      4  153757.931711\n",
       "5      5  181512.266823\n",
       "6      6  166879.606086\n",
       "7      7  143969.092958\n",
       "8      8  118754.133004\n",
       "9      9   93507.347865\n",
       "10    10   52962.141474\n",
       "11    11   39701.748735\n",
       "12    12   30093.953915\n",
       "13    13   26815.002073\n",
       "14    14   27630.332309\n",
       "15    15   33714.323175\n",
       "16    16   57859.298233\n",
       "17    17   95413.475437\n",
       "18    18  102209.712554\n",
       "19    19  109711.754529\n",
       "20    20  101792.799643\n",
       "21    21  105184.842268\n",
       "22    22  106508.101882\n",
       "23    23  115217.687369"
      ]
     },
     "execution_count": 85,
     "metadata": {},
     "output_type": "execute_result"
    }
   ],
   "source": [
    "df.groupby('hour', as_index=False).agg({'eCPM': 'sum'})"
   ]
  },
  {
   "cell_type": "code",
   "execution_count": 86,
   "metadata": {},
   "outputs": [
    {
     "data": {
      "image/png": "[encoded data removed]",
      "text/plain": [
       "<Figure size 1080x504 with 1 Axes>"
      ]
     },
     "metadata": {
      "needs_background": "light"
     },
     "output_type": "display_data"
    }
   ],
   "source": [
    "plt.figure(figsize=(15,7))\n",
    "sns.lineplot(data=df.groupby('hour', as_index=False).agg({'eCPM': 'sum'}), x=\"hour\", y=\"eCPM\").set_xticks(range(24))\n",
    "plt.title(\"Зависимость eCPM от времени дня\", size = 15, y = 1)\n",
    "plt.show()"
   ]
  },
  {
   "cell_type": "markdown",
   "metadata": {},
   "source": [
    "По данному графику можно сделать вывод, что в ночное время eCPM увеличивается, достигая своего максимума в пять утра. Потом идет на спад до обеденного времени, и после трех часов дня начинается резкий скачок вверх."
   ]
  }
 ],
 "metadata": {
  "colab": {
   "authorship_tag": "ABX9TyO1EUwWdsliAl3JUqIZegDc",
   "collapsed_sections": [],
   "mount_file_id": "14oAvwy7amjf68Z1mclTNLrVrBOOp1gts",
   "name": "Untitled12.ipynb",
   "provenance": []
  },
  "kernelspec": {
   "display_name": "Python 3 (ipykernel)",
   "language": "python",
   "name": "python3"
  },
  "language_info": {
   "codemirror_mode": {
    "name": "ipython",
    "version": 3
   },
   "file_extension": ".py",
   "mimetype": "text/x-python",
   "name": "python",
   "nbconvert_exporter": "python",
   "pygments_lexer": "ipython3",
   "version": "3.9.10"
  }
 },
 "nbformat": 4,
 "nbformat_minor": 1
}
